{
 "cells": [
  {
   "cell_type": "markdown",
   "id": "fb76a310",
   "metadata": {},
   "source": [
    "# Y 변수 분석"
   ]
  },
  {
   "cell_type": "code",
   "execution_count": 2,
   "id": "45ed3e9d",
   "metadata": {},
   "outputs": [],
   "source": [
    "import matplotlib.pyplot as plt \n",
    "import numpy as np \n",
    "import pandas as pd\n",
    "import seaborn as sns\n",
    "import statsmodels.api as sm\n",
    "\n",
    "train_df = pd.read_csv(\"/Users/cdsjw/MLAutonomousDriving_workspace/Scikit/train.csv\")\n",
    "def show_graph(y_column):#데이터 그래프 표현 함수\n",
    "    f, axes = plt.subplots(1, 2, figsize=(10, 4), sharex=True)\n",
    "    ydata = train_df.filter(regex=y_column)\n",
    "    sns.histplot(ydata[y_column], color=\"blue\", ax=axes[0], bins = 300)\n",
    "    sns.boxplot(x = y_column, orient=\"h\", data = ydata, ax=axes[1])\n",
    "    print(ydata.describe())\n",
    "\n",
    "def select_X(ypara):\n",
    "    variables = train_df.columns[1:57].tolist() ## 설명 변수 리스트\n",
    "    y = train_df[ypara] ## 반응 변수\n",
    "\n",
    "    selected_variables = [] ## 선택된 변수들\n",
    "    sl_enter = 0.05\n",
    "    sl_remove = 0.05\n",
    " \n",
    "    sv_per_step = [] ## 각 스텝별로 선택된 변수들\n",
    "    adjusted_r_squared = [] ## 각 스텝별 수정된 결정계수\n",
    "    steps = [] ## 스텝\n",
    "    step = 0\n",
    "    while len(variables) > 0:\n",
    "        remainder = list(set(variables) - set(selected_variables))\n",
    "        pval = pd.Series(index=remainder,dtype='float64') ## 변수의 p-value\n",
    "        ## 기존에 포함된 변수와 새로운 변수 하나씩 돌아가면서 \n",
    "        ## 선형 모형을 적합한다.\n",
    "        for col in remainder: \n",
    "            X = train_df[selected_variables+[col]]\n",
    "            X = sm.add_constant(X)\n",
    "            model = sm.OLS(y,X).fit()\n",
    "            pval[col] = model.pvalues[col]\n",
    " \n",
    "        min_pval = pval.min()\n",
    "        if min_pval < sl_enter: ## 최소 p-value 값이 기준 값보다 작으면 포함\n",
    "            selected_variables.append(pval.idxmin())\n",
    "            ## 선택된 변수들에대해서\n",
    "            ## 어떤 변수를 제거할지 고른다.\n",
    "            while len(selected_variables) > 0:\n",
    "                selected_X = train_df[selected_variables]\n",
    "                selected_X = sm.add_constant(selected_X)\n",
    "                selected_pval = sm.OLS(y,selected_X).fit().pvalues[1:] ## 절편항의 p-value는 뺀다\n",
    "                max_pval = selected_pval.max()\n",
    "                if max_pval >= sl_remove: ## 최대 p-value값이 기준값보다 크거나 같으면 제외\n",
    "                    remove_variable = selected_pval.idxmax()\n",
    "                    selected_variables.remove(remove_variable)\n",
    "                else:\n",
    "                    break\n",
    "        \n",
    "            step += 1\n",
    "            steps.append(step)\n",
    "            adj_r_squared = sm.OLS(y,sm.add_constant(train_df[selected_variables])).fit().rsquared_adj\n",
    "            adjusted_r_squared.append(adj_r_squared)\n",
    "            sv_per_step.append(selected_variables.copy())\n",
    "        else:\n",
    "            break\n",
    "    return selected_variables"
   ]
  },
  {
   "cell_type": "markdown",
   "id": "622196b8",
   "metadata": {},
   "source": [
    "## Y_01 : 안테나 Gain 평균 (각도1) "
   ]
  },
  {
   "cell_type": "code",
   "execution_count": 20,
   "id": "ebf3c38f",
   "metadata": {},
   "outputs": [
    {
     "name": "stdout",
     "output_type": "stream",
     "text": [
      "               Y_01\n",
      "count  39607.000000\n",
      "mean       1.353814\n",
      "std        0.356223\n",
      "min        0.017000\n",
      "25%        1.127500\n",
      "50%        1.349000\n",
      "75%        1.576000\n",
      "max        4.409000\n"
     ]
    },
    {
     "data": {
      "image/png": "[encoded data removed]",
      "text/plain": [
       "<Figure size 720x288 with 2 Axes>"
      ]
     },
     "metadata": {
      "needs_background": "light"
     },
     "output_type": "display_data"
    }
   ],
   "source": [
    "show_graph(\"Y_01\")"
   ]
  },
  {
   "cell_type": "markdown",
   "id": "36cfb273",
   "metadata": {},
   "source": [
    "### X 변수 선택 : 단계별 선택법(Forward stepwise Selection)"
   ]
  },
  {
   "cell_type": "code",
   "execution_count": 21,
   "id": "c35547a7",
   "metadata": {},
   "outputs": [
    {
     "name": "stdout",
     "output_type": "stream",
     "text": [
      "['X_48', 'X_22', 'X_19', 'X_18', 'X_52', 'X_17', 'X_45', 'X_13', 'X_49', 'X_51', 'X_40', 'X_46', 'X_04', 'X_23', 'X_47', 'X_03', 'X_06', 'X_20', 'X_05', 'X_27', 'X_24', 'X_07', 'X_21', 'X_15', 'X_43', 'X_42', 'X_33', 'X_41', 'X_56', 'X_30', 'X_31', 'X_25', 'X_39']\n"
     ]
    }
   ],
   "source": [
    "print(select_X('Y_01'))"
   ]
  },
  {
   "cell_type": "markdown",
   "id": "584f3f12",
   "metadata": {},
   "source": [
    "## Y_02 : 안테나 1 Gain 편차"
   ]
  },
  {
   "cell_type": "code",
   "execution_count": 3,
   "id": "8b90166f",
   "metadata": {},
   "outputs": [
    {
     "name": "stdout",
     "output_type": "stream",
     "text": [
      "               Y_02\n",
      "count  39607.000000\n",
      "mean       1.057267\n",
      "std        0.386266\n",
      "min        0.007000\n",
      "25%        0.793000\n",
      "50%        1.044000\n",
      "75%        1.300000\n",
      "max        3.998000\n"
     ]
    },
    {
     "data": {
      "image/png": "[encoded data removed]",
      "text/plain": [
       "<Figure size 720x288 with 2 Axes>"
      ]
     },
     "metadata": {
      "needs_background": "light"
     },
     "output_type": "display_data"
    }
   ],
   "source": [
    "show_graph(\"Y_02\")"
   ]
  },
  {
   "cell_type": "markdown",
   "id": "059cd195",
   "metadata": {},
   "source": [
    "### X 변수 선택 : 단계별 선택법(Forward stepwise Selection)"
   ]
  },
  {
   "cell_type": "code",
   "execution_count": 23,
   "id": "cb8f67ba",
   "metadata": {},
   "outputs": [
    {
     "name": "stdout",
     "output_type": "stream",
     "text": [
      "['X_48', 'X_22', 'X_18', 'X_43', 'X_17', 'X_51', 'X_42', 'X_49', 'X_40', 'X_05', 'X_52', 'X_06', 'X_45', 'X_27', 'X_24', 'X_25', 'X_56', 'X_09', 'X_19', 'X_20', 'X_46', 'X_04', 'X_23', 'X_47', 'X_16', 'X_15', 'X_41', 'X_28', 'X_39']\n"
     ]
    }
   ],
   "source": [
    "print(select_X('Y_02'))"
   ]
  },
  {
   "cell_type": "markdown",
   "id": "b555d1e7",
   "metadata": {},
   "source": [
    "## Y_03 : 안테나 2 Gain 편차"
   ]
  },
  {
   "cell_type": "code",
   "execution_count": 1,
   "id": "d142d1b1",
   "metadata": {},
   "outputs": [
    {
     "ename": "NameError",
     "evalue": "name 'show_graph' is not defined",
     "output_type": "error",
     "traceback": [
      "\u001b[1;31m---------------------------------------------------------------------------\u001b[0m",
      "\u001b[1;31mNameError\u001b[0m                                 Traceback (most recent call last)",
      "Input \u001b[1;32mIn [1]\u001b[0m, in \u001b[0;36m<cell line: 1>\u001b[1;34m()\u001b[0m\n\u001b[1;32m----> 1\u001b[0m \u001b[43mshow_graph\u001b[49m(\u001b[38;5;124m\"\u001b[39m\u001b[38;5;124mY_03\u001b[39m\u001b[38;5;124m\"\u001b[39m)\n",
      "\u001b[1;31mNameError\u001b[0m: name 'show_graph' is not defined"
     ]
    }
   ],
   "source": [
    "show_graph(\"Y_03\")"
   ]
  },
  {
   "cell_type": "markdown",
   "id": "e52b1658",
   "metadata": {},
   "source": [
    "### X 변수 선택 : 단계별 선택법(Forward stepwise Selection)"
   ]
  },
  {
   "cell_type": "code",
   "execution_count": 25,
   "id": "911f4126",
   "metadata": {},
   "outputs": [
    {
     "name": "stdout",
     "output_type": "stream",
     "text": [
      "['X_48', 'X_18', 'X_17', 'X_43', 'X_22', 'X_19', 'X_49', 'X_51', 'X_05', 'X_13', 'X_42', 'X_24', 'X_25', 'X_52', 'X_06', 'X_40', 'X_46', 'X_45', 'X_56', 'X_04', 'X_23', 'X_47', 'X_32', 'X_03', 'X_27', 'X_33', 'X_01', 'X_20', 'X_21', 'X_12', 'X_10', 'X_39', 'X_28', 'X_16', 'X_41']\n"
     ]
    }
   ],
   "source": [
    "print(select_X('Y_03'))"
   ]
  },
  {
   "cell_type": "markdown",
   "id": "adaf6fe5",
   "metadata": {},
   "source": [
    "## Y_04 : 평균 신호대 잡음비"
   ]
  },
  {
   "cell_type": "code",
   "execution_count": 26,
   "id": "4bdf5fa5",
   "metadata": {},
   "outputs": [
    {
     "name": "stdout",
     "output_type": "stream",
     "text": [
      "               Y_04\n",
      "count  39607.000000\n",
      "mean      13.621191\n",
      "std        2.686632\n",
      "min       -0.331000\n",
      "25%       11.822000\n",
      "50%       13.837000\n",
      "75%       15.626000\n",
      "max       98.794000\n"
     ]
    },
    {
     "data": {
      "image/png": "[encoded data removed]",
      "text/plain": [
       "<Figure size 720x288 with 2 Axes>"
      ]
     },
     "metadata": {
      "needs_background": "light"
     },
     "output_type": "display_data"
    }
   ],
   "source": [
    "show_graph(\"Y_04\")"
   ]
  },
  {
   "cell_type": "markdown",
   "id": "2e98d703",
   "metadata": {},
   "source": [
    "### X 변수 선택 : 단계별 선택법(Forward stepwise Selection)"
   ]
  },
  {
   "cell_type": "code",
   "execution_count": 27,
   "id": "45acf618",
   "metadata": {},
   "outputs": [
    {
     "name": "stdout",
     "output_type": "stream",
     "text": [
      "['X_48', 'X_04', 'X_23', 'X_47', 'X_30', 'X_21', 'X_32', 'X_16', 'X_17', 'X_12', 'X_19', 'X_03', 'X_24', 'X_54', 'X_50', 'X_52', 'X_56', 'X_22', 'X_09', 'X_25', 'X_06', 'X_40', 'X_44', 'X_42', 'X_51', 'X_55', 'X_18', 'X_20', 'X_08', 'X_26', 'X_10', 'X_53', 'X_37', 'X_35', 'X_15']\n"
     ]
    }
   ],
   "source": [
    "print(select_X('Y_04'))"
   ]
  },
  {
   "cell_type": "markdown",
   "id": "8d0a3d9b",
   "metadata": {},
   "source": [
    "## Y_05 : 안테나 Gain 평균 (각도2)"
   ]
  },
  {
   "cell_type": "code",
   "execution_count": 28,
   "id": "8f7b4364",
   "metadata": {},
   "outputs": [
    {
     "name": "stdout",
     "output_type": "stream",
     "text": [
      "               Y_05\n",
      "count  39607.000000\n",
      "mean      31.290467\n",
      "std        2.543222\n",
      "min       18.589000\n",
      "25%       29.768000\n",
      "50%       31.710000\n",
      "75%       33.184000\n",
      "max       37.250000\n"
     ]
    },
    {
     "data": {
      "image/png": "[encoded data removed]",
      "text/plain": [
       "<Figure size 720x288 with 2 Axes>"
      ]
     },
     "metadata": {
      "needs_background": "light"
     },
     "output_type": "display_data"
    }
   ],
   "source": [
    "show_graph(\"Y_05\")"
   ]
  },
  {
   "cell_type": "markdown",
   "id": "1fc74882",
   "metadata": {},
   "source": [
    "### X 변수 선택 : 단계별 선택법(Forward stepwise Selection)"
   ]
  },
  {
   "cell_type": "code",
   "execution_count": 29,
   "id": "3ff57a82",
   "metadata": {},
   "outputs": [
    {
     "name": "stdout",
     "output_type": "stream",
     "text": [
      "['X_48', 'X_56', 'X_32', 'X_12', 'X_15', 'X_18', 'X_17', 'X_04', 'X_23', 'X_47', 'X_33', 'X_29', 'X_09', 'X_40', 'X_54', 'X_50', 'X_44', 'X_49', 'X_51', 'X_55', 'X_03', 'X_30', 'X_19', 'X_28', 'X_53', 'X_13', 'X_35', 'X_01', 'X_06', 'X_52', 'X_37', 'X_31', 'X_45', 'X_26', 'X_10']\n"
     ]
    }
   ],
   "source": [
    "print(select_X('Y_05'))"
   ]
  },
  {
   "cell_type": "markdown",
   "id": "e92b7028",
   "metadata": {},
   "source": [
    "## Y_06 : 신호대 잡음비 (각도1)"
   ]
  },
  {
   "cell_type": "code",
   "execution_count": 30,
   "id": "459e8b71",
   "metadata": {},
   "outputs": [
    {
     "name": "stdout",
     "output_type": "stream",
     "text": [
      "               Y_06\n",
      "count  39607.000000\n",
      "mean      16.529382\n",
      "std        1.893014\n",
      "min      -19.963000\n",
      "25%       16.146000\n",
      "50%       16.694000\n",
      "75%       17.164000\n",
      "max       18.998000\n"
     ]
    },
    {
     "data": {
      "image/png": "[encoded data removed]",
      "text/plain": [
       "<Figure size 720x288 with 2 Axes>"
      ]
     },
     "metadata": {
      "needs_background": "light"
     },
     "output_type": "display_data"
    }
   ],
   "source": [
    "show_graph(\"Y_06\")"
   ]
  },
  {
   "cell_type": "markdown",
   "id": "e695c0e2",
   "metadata": {},
   "source": [
    "### X 변수 선택 : 단계별 선택법(Forward stepwise Selection)"
   ]
  },
  {
   "cell_type": "code",
   "execution_count": 31,
   "id": "f8d93439",
   "metadata": {},
   "outputs": [
    {
     "name": "stdout",
     "output_type": "stream",
     "text": [
      "['X_48', 'X_19', 'X_30', 'X_56', 'X_05', 'X_06', 'X_26', 'X_49', 'X_17', 'X_18', 'X_16', 'X_44', 'X_13', 'X_43', 'X_51', 'X_55', 'X_50', 'X_09', 'X_04', 'X_23', 'X_47', 'X_03', 'X_22']\n"
     ]
    }
   ],
   "source": [
    "print(select_X('Y_06'))"
   ]
  },
  {
   "cell_type": "markdown",
   "id": "2e116666",
   "metadata": {},
   "source": [
    "## Y_07 : 안테나 Gain 평균 (각도3)"
   ]
  },
  {
   "cell_type": "code",
   "execution_count": 32,
   "id": "e08cb6fa",
   "metadata": {},
   "outputs": [
    {
     "name": "stdout",
     "output_type": "stream",
     "text": [
      "               Y_07\n",
      "count  39607.000000\n",
      "mean       3.155054\n",
      "std        0.418940\n",
      "min        0.502000\n",
      "25%        2.863000\n",
      "50%        3.126000\n",
      "75%        3.433500\n",
      "max        5.299000\n"
     ]
    },
    {
     "data": {
      "image/png": "[encoded data removed]",
      "text/plain": [
       "<Figure size 720x288 with 2 Axes>"
      ]
     },
     "metadata": {
      "needs_background": "light"
     },
     "output_type": "display_data"
    }
   ],
   "source": [
    "show_graph(\"Y_07\")"
   ]
  },
  {
   "cell_type": "markdown",
   "id": "87967619",
   "metadata": {},
   "source": [
    "### X 변수 선택 : 단계별 선택법(Forward stepwise Selection)"
   ]
  },
  {
   "cell_type": "code",
   "execution_count": 33,
   "id": "7afdc913",
   "metadata": {},
   "outputs": [
    {
     "name": "stdout",
     "output_type": "stream",
     "text": [
      "['X_48', 'X_04', 'X_23', 'X_47', 'X_19', 'X_32', 'X_21', 'X_15', 'X_18', 'X_03', 'X_17', 'X_50', 'X_54', 'X_41', 'X_24', 'X_12', 'X_14', 'X_38', 'X_31', 'X_09', 'X_56', 'X_52', 'X_06', 'X_05', 'X_22', 'X_33', 'X_29', 'X_55']\n"
     ]
    }
   ],
   "source": [
    "print(select_X('Y_07'))"
   ]
  },
  {
   "cell_type": "markdown",
   "id": "1c638062",
   "metadata": {},
   "source": [
    "## Y_08 : 신호대 잡음비 (각도2)"
   ]
  },
  {
   "cell_type": "code",
   "execution_count": 34,
   "id": "904753a7",
   "metadata": {},
   "outputs": [
    {
     "name": "stdout",
     "output_type": "stream",
     "text": [
      "               Y_08\n",
      "count  39607.000000\n",
      "mean     -26.294839\n",
      "std        0.660537\n",
      "min      -29.652000\n",
      "25%      -26.689000\n",
      "50%      -26.254000\n",
      "75%      -25.855000\n",
      "max      -23.785000\n"
     ]
    },
    {
     "data": {
      "image/png": "[encoded data removed]",
      "text/plain": [
       "<Figure size 720x288 with 2 Axes>"
      ]
     },
     "metadata": {
      "needs_background": "light"
     },
     "output_type": "display_data"
    }
   ],
   "source": [
    "show_graph(\"Y_08\")"
   ]
  },
  {
   "cell_type": "markdown",
   "id": "84cf54d9",
   "metadata": {},
   "source": [
    "### X 변수 선택 : 단계별 선택법(Forward stepwise Selection)"
   ]
  },
  {
   "cell_type": "code",
   "execution_count": 35,
   "id": "94f02ccd",
   "metadata": {},
   "outputs": [
    {
     "name": "stdout",
     "output_type": "stream",
     "text": [
      "['X_48', 'X_20', 'X_32', 'X_30', 'X_03', 'X_42', 'X_22', 'X_52', 'X_40', 'X_17', 'X_18', 'X_15', 'X_10', 'X_51', 'X_55', 'X_04', 'X_23', 'X_47', 'X_09', 'X_27', 'X_56', 'X_41', 'X_14', 'X_54', 'X_53', 'X_35', 'X_44']\n"
     ]
    }
   ],
   "source": [
    "print(select_X('Y_08'))"
   ]
  },
  {
   "cell_type": "markdown",
   "id": "90d1f1b7",
   "metadata": {},
   "source": [
    "## Y_09 : 신호대 잡음비 (각도3)"
   ]
  },
  {
   "cell_type": "code",
   "execution_count": 36,
   "id": "4323dc0c",
   "metadata": {},
   "outputs": [
    {
     "name": "stdout",
     "output_type": "stream",
     "text": [
      "               Y_09\n",
      "count  39607.000000\n",
      "mean     -26.308623\n",
      "std        0.653580\n",
      "min      -29.523000\n",
      "25%      -26.702000\n",
      "50%      -26.266000\n",
      "75%      -25.871000\n",
      "max      -23.960000\n"
     ]
    },
    {
     "data": {
      "image/png": "[encoded data removed]",
      "text/plain": [
       "<Figure size 720x288 with 2 Axes>"
      ]
     },
     "metadata": {
      "needs_background": "light"
     },
     "output_type": "display_data"
    }
   ],
   "source": [
    "show_graph(\"Y_09\")"
   ]
  },
  {
   "cell_type": "markdown",
   "id": "29e4c50b",
   "metadata": {},
   "source": [
    "### X 변수 선택 : 단계별 선택법(Forward stepwise Selection)"
   ]
  },
  {
   "cell_type": "code",
   "execution_count": 37,
   "id": "c78cb5d7",
   "metadata": {},
   "outputs": [
    {
     "name": "stdout",
     "output_type": "stream",
     "text": [
      "['X_48', 'X_20', 'X_30', 'X_42', 'X_03', 'X_32', 'X_22', 'X_52', 'X_40', 'X_17', 'X_18', 'X_15', 'X_04', 'X_23', 'X_47', 'X_51', 'X_55', 'X_09', 'X_12', 'X_41', 'X_10', 'X_14', 'X_56', 'X_54', 'X_53', 'X_35']\n"
     ]
    }
   ],
   "source": [
    "print(select_X('Y_09'))"
   ]
  },
  {
   "cell_type": "markdown",
   "id": "4d09c8f0",
   "metadata": {},
   "source": [
    "## Y_10 : 신호대 잡음비 (각도4)"
   ]
  },
  {
   "cell_type": "code",
   "execution_count": 38,
   "id": "78fd3db0",
   "metadata": {},
   "outputs": [
    {
     "name": "stdout",
     "output_type": "stream",
     "text": [
      "               Y_10\n",
      "count  39607.000000\n",
      "mean     -22.400062\n",
      "std        0.920952\n",
      "min      -31.119000\n",
      "25%      -22.871000\n",
      "50%      -22.275000\n",
      "75%      -21.791000\n",
      "max      -20.052000\n"
     ]
    },
    {
     "data": {
      "image/png": "[encoded data removed]",
      "text/plain": [
       "<Figure size 720x288 with 2 Axes>"
      ]
     },
     "metadata": {
      "needs_background": "light"
     },
     "output_type": "display_data"
    }
   ],
   "source": [
    "show_graph(\"Y_10\")"
   ]
  },
  {
   "cell_type": "markdown",
   "id": "f8fae466",
   "metadata": {},
   "source": [
    "### X 변수 선택 : 단계별 선택법(Forward stepwise Selection)"
   ]
  },
  {
   "cell_type": "code",
   "execution_count": 39,
   "id": "181bbf78",
   "metadata": {},
   "outputs": [
    {
     "name": "stdout",
     "output_type": "stream",
     "text": [
      "['X_48', 'X_04', 'X_23', 'X_47', 'X_18', 'X_15', 'X_22', 'X_42', 'X_30', 'X_56', 'X_49', 'X_03', 'X_09', 'X_51', 'X_16', 'X_27', 'X_24', 'X_41', 'X_32', 'X_45', 'X_17', 'X_21', 'X_01', 'X_40', 'X_55', 'X_52', 'X_54', 'X_53', 'X_29', 'X_10', 'X_08', 'X_44', 'X_31', 'X_50', 'X_07']\n"
     ]
    }
   ],
   "source": [
    "print(select_X('Y_10'))"
   ]
  },
  {
   "cell_type": "markdown",
   "id": "834abfc6",
   "metadata": {},
   "source": [
    "## Y_11 : 안테나 Gain 평균 (각도4)"
   ]
  },
  {
   "cell_type": "code",
   "execution_count": 40,
   "id": "6a8b9bbe",
   "metadata": {},
   "outputs": [
    {
     "name": "stdout",
     "output_type": "stream",
     "text": [
      "               Y_11\n",
      "count  39607.000000\n",
      "mean      24.325061\n",
      "std        0.830197\n",
      "min       19.844000\n",
      "25%       23.836000\n",
      "50%       24.420000\n",
      "75%       24.911500\n",
      "max       26.703000\n"
     ]
    },
    {
     "data": {
      "image/png": "[encoded data removed]",
      "text/plain": [
       "<Figure size 720x288 with 2 Axes>"
      ]
     },
     "metadata": {
      "needs_background": "light"
     },
     "output_type": "display_data"
    }
   ],
   "source": [
    "show_graph(\"Y_11\")"
   ]
  },
  {
   "cell_type": "markdown",
   "id": "d3c821d0",
   "metadata": {},
   "source": [
    "### X 변수 선택 : 단계별 선택법(Forward stepwise Selection)"
   ]
  },
  {
   "cell_type": "code",
   "execution_count": 41,
   "id": "04c1d112",
   "metadata": {},
   "outputs": [
    {
     "name": "stdout",
     "output_type": "stream",
     "text": [
      "['X_48', 'X_17', 'X_18', 'X_15', 'X_30', 'X_51', 'X_42', 'X_03', 'X_01', 'X_56', 'X_05', 'X_54', 'X_31', 'X_21', 'X_52', 'X_55', 'X_10', 'X_50', 'X_04', 'X_23', 'X_47', 'X_32', 'X_09', 'X_33', 'X_35']\n"
     ]
    }
   ],
   "source": [
    "print(select_X('Y_11'))"
   ]
  },
  {
   "cell_type": "markdown",
   "id": "7b703263",
   "metadata": {},
   "source": [
    "## Y_12 : 신호대 잡음비 (각도5)"
   ]
  },
  {
   "cell_type": "code",
   "execution_count": 42,
   "id": "aa9cc869",
   "metadata": {},
   "outputs": [
    {
     "name": "stdout",
     "output_type": "stream",
     "text": [
      "               Y_12\n",
      "count  39607.000000\n",
      "mean     -26.237762\n",
      "std        0.656329\n",
      "min      -29.544000\n",
      "25%      -26.630000\n",
      "50%      -26.198000\n",
      "75%      -25.799000\n",
      "max      -23.722000\n"
     ]
    },
    {
     "data": {
      "image/png": "[encoded data removed]",
      "text/plain": [
       "<Figure size 720x288 with 2 Axes>"
      ]
     },
     "metadata": {
      "needs_background": "light"
     },
     "output_type": "display_data"
    }
   ],
   "source": [
    "show_graph(\"Y_12\")"
   ]
  },
  {
   "cell_type": "markdown",
   "id": "16782cee",
   "metadata": {},
   "source": [
    "### X 변수 선택 : 단계별 선택법(Forward stepwise Selection)"
   ]
  },
  {
   "cell_type": "code",
   "execution_count": 43,
   "id": "d1401da6",
   "metadata": {},
   "outputs": [
    {
     "name": "stdout",
     "output_type": "stream",
     "text": [
      "['X_48', 'X_20', 'X_30', 'X_42', 'X_03', 'X_32', 'X_22', 'X_56', 'X_40', 'X_18', 'X_15', 'X_51', 'X_04', 'X_23', 'X_47', 'X_09', 'X_13', 'X_10', 'X_41', 'X_55', 'X_52', 'X_12', 'X_54', 'X_53', 'X_35']\n"
     ]
    }
   ],
   "source": [
    "print(select_X('Y_12'))"
   ]
  },
  {
   "cell_type": "markdown",
   "id": "2a858d0d",
   "metadata": {},
   "source": [
    "## Y_13 : 신호대 잡음비 (각도6)"
   ]
  },
  {
   "cell_type": "code",
   "execution_count": 44,
   "id": "cd67bbd4",
   "metadata": {},
   "outputs": [
    {
     "name": "stdout",
     "output_type": "stream",
     "text": [
      "               Y_13\n",
      "count  39607.000000\n",
      "mean     -26.233869\n",
      "std        0.655090\n",
      "min      -29.448000\n",
      "25%      -26.624000\n",
      "50%      -26.193000\n",
      "75%      -25.794000\n",
      "max      -23.899000\n"
     ]
    },
    {
     "data": {
      "image/png": "[encoded data removed]",
      "text/plain": [
       "<Figure size 720x288 with 2 Axes>"
      ]
     },
     "metadata": {
      "needs_background": "light"
     },
     "output_type": "display_data"
    }
   ],
   "source": [
    "show_graph(\"Y_13\")"
   ]
  },
  {
   "cell_type": "markdown",
   "id": "485a57f9",
   "metadata": {},
   "source": [
    "### X 변수 선택 : 단계별 선택법(Forward stepwise Selection)"
   ]
  },
  {
   "cell_type": "code",
   "execution_count": 45,
   "id": "73bb2014",
   "metadata": {},
   "outputs": [
    {
     "name": "stdout",
     "output_type": "stream",
     "text": [
      "['X_48', 'X_20', 'X_30', 'X_42', 'X_03', 'X_32', 'X_22', 'X_52', 'X_40', 'X_17', 'X_18', 'X_15', 'X_51', 'X_04', 'X_23', 'X_47', 'X_09', 'X_55', 'X_10', 'X_56', 'X_41', 'X_14', 'X_12', 'X_54', 'X_53', 'X_35']\n"
     ]
    }
   ],
   "source": [
    "print(select_X('Y_13'))"
   ]
  },
  {
   "cell_type": "markdown",
   "id": "846ed25a",
   "metadata": {},
   "source": [
    "## Y_14 : 신호대 잡음비 (각도7)"
   ]
  },
  {
   "cell_type": "code",
   "execution_count": 46,
   "id": "1bfc6386",
   "metadata": {},
   "outputs": [
    {
     "name": "stdout",
     "output_type": "stream",
     "text": [
      "               Y_14\n",
      "count  39607.000000\n",
      "mean     -26.245868\n",
      "std        0.655989\n",
      "min      -29.620000\n",
      "25%      -26.640000\n",
      "50%      -26.204000\n",
      "75%      -25.809000\n",
      "max      -23.856000\n"
     ]
    },
    {
     "data": {
      "image/png": "[encoded data removed]",
      "text/plain": [
       "<Figure size 720x288 with 2 Axes>"
      ]
     },
     "metadata": {
      "needs_background": "light"
     },
     "output_type": "display_data"
    }
   ],
   "source": [
    "show_graph(\"Y_14\")"
   ]
  },
  {
   "cell_type": "markdown",
   "id": "c80dda81",
   "metadata": {},
   "source": [
    "### X 변수 선택 : 단계별 선택법(Forward stepwise Selection)"
   ]
  },
  {
   "cell_type": "code",
   "execution_count": 47,
   "id": "9d6391cb",
   "metadata": {},
   "outputs": [
    {
     "name": "stdout",
     "output_type": "stream",
     "text": [
      "['X_48', 'X_20', 'X_32', 'X_30', 'X_03', 'X_42', 'X_22', 'X_52', 'X_40', 'X_18', 'X_15', 'X_04', 'X_23', 'X_47', 'X_51', 'X_55', 'X_09', 'X_27', 'X_10', 'X_56', 'X_54', 'X_41', 'X_13', 'X_53', 'X_12', 'X_35']\n"
     ]
    }
   ],
   "source": [
    "print(select_X('Y_14'))"
   ]
  },
  {
   "cell_type": "code",
   "execution_count": null,
   "id": "8cd8c0da",
   "metadata": {},
   "outputs": [],
   "source": []
  }
 ],
 "metadata": {
  "kernelspec": {
   "display_name": "Python 3 (ipykernel)",
   "language": "python",
   "name": "python3"
  },
  "language_info": {
   "codemirror_mode": {
    "name": "ipython",
    "version": 3
   },
   "file_extension": ".py",
   "mimetype": "text/x-python",
   "name": "python",
   "nbconvert_exporter": "python",
   "pygments_lexer": "ipython3",
   "version": "3.9.12"
  }
 },
 "nbformat": 4,
 "nbformat_minor": 5
}
