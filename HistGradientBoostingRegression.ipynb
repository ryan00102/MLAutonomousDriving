{
 "cells": [
  {
   "cell_type": "markdown",
   "id": "afe8307c",
   "metadata": {},
   "source": [
    "## 코드"
   ]
  },
  {
   "cell_type": "markdown",
   "id": "62f88633",
   "metadata": {},
   "source": [
    "# Import"
   ]
  },
  {
   "cell_type": "code",
   "execution_count": 13,
   "id": "20c851fa",
   "metadata": {},
   "outputs": [],
   "source": [
    "import pandas as pd\n",
    "import random\n",
    "import os\n",
    "import numpy as np\n",
    "import matplotlib.pyplot as plt\n",
    "\n",
    "from sklearn.model_selection import cross_val_score\n",
    "from sklearn.ensemble import HistGradientBoostingRegressor\n",
    "from sklearn.model_selection import train_test_split\n",
    "from sklearn.metrics import mean_squared_error, r2_score\n",
    "\n",
    "def seed_everything(seed):\n",
    "    random.seed(seed)\n",
    "    os.environ['PYTHONHASHSEED'] = str(seed)\n",
    "    np.random.seed(seed)\n",
    "seed_everything(42) # Seed 고정"
   ]
  },
  {
   "cell_type": "markdown",
   "id": "d07c95e2",
   "metadata": {},
   "source": [
    "# Data Load"
   ]
  },
  {
   "cell_type": "code",
   "execution_count": 14,
   "id": "17706131",
   "metadata": {},
   "outputs": [],
   "source": [
    "train_df = pd.read_csv('train.csv')\n",
    "\n",
    "train_x = train_df.filter(regex='X') # Input : X Featrue\n",
    "train_y = train_df.filter(regex='Y') # Output : Y Feature"
   ]
  },
  {
   "cell_type": "markdown",
   "id": "dd1f61ce",
   "metadata": {},
   "source": [
    "# Regression & Inference"
   ]
  },
  {
   "cell_type": "code",
   "execution_count": 46,
   "id": "1ae56a81",
   "metadata": {},
   "outputs": [],
   "source": [
    "HR = HistGradientBoostingRegressor(random_state=42,learning_rate = 0.1, max_depth = 7)\n",
    "preds = []\n",
    "test_x = pd.read_csv('./test.csv').drop(columns=['ID'])\n",
    "for i in range(1,15):\n",
    "    if i<10:\n",
    "        train_y = train_df.filter(regex='Y_0'+str(i))\n",
    "        HR.fit(train_x, train_y.values.ravel())\n",
    "        arr = HR.predict(test_x)\n",
    "        preds.append(arr)\n",
    "    else :\n",
    "        train_y = train_df.filter(regex='Y_'+str(i))\n",
    "        HR.fit(train_x, train_y.values.ravel())\n",
    "        arr = HR.predict(test_x)\n",
    "        preds.append(arr)"
   ]
  },
  {
   "cell_type": "markdown",
   "id": "b283fecd",
   "metadata": {},
   "source": [
    "# Evaluation"
   ]
  },
  {
   "cell_type": "code",
   "execution_count": 47,
   "id": "7d425ee3",
   "metadata": {},
   "outputs": [
    {
     "name": "stdout",
     "output_type": "stream",
     "text": [
      "[-0.04959872  0.06764595  0.06276484]\n",
      "Test MSE: $0\n",
      "R2 Score: 0.1835\n",
      "\n"
     ]
    }
   ],
   "source": [
    "X_train, X_test, y_train, y_test = train_test_split(train_x, train_y, train_size=0.8, test_size=0.2, random_state=42)\n",
    "\n",
    "y_pred = HR.predict(X_test)\n",
    "mse = mean_squared_error(y_test, y_pred)\n",
    "\n",
    "r2 = r2_score(y_test,y_pred)\n",
    "\n",
    "print(cross_val_score(HR, train_x, train_y.values.ravel(), cv=3))\n",
    "print(f'Test MSE: ${mse:,.0f}')\n",
    "print(f'R2 Score: {r2:,.4f}\\n')"
   ]
  },
  {
   "cell_type": "markdown",
   "id": "74de898a",
   "metadata": {},
   "source": [
    "# Submit"
   ]
  },
  {
   "cell_type": "code",
   "execution_count": 48,
   "id": "0355c979",
   "metadata": {},
   "outputs": [],
   "source": [
    "submit = pd.read_csv('./sample_submission.csv')"
   ]
  },
  {
   "cell_type": "code",
   "execution_count": 49,
   "id": "cbc0ba65",
   "metadata": {},
   "outputs": [
    {
     "name": "stdout",
     "output_type": "stream",
     "text": [
      "Done.\n"
     ]
    }
   ],
   "source": [
    "for idx, col in enumerate(submit.columns):\n",
    "    if col=='ID':\n",
    "        continue\n",
    "    submit[col] = preds[:][idx-1]\n",
    "print('Done.')"
   ]
  },
  {
   "cell_type": "code",
   "execution_count": 50,
   "id": "2f0ce50c",
   "metadata": {},
   "outputs": [],
   "source": [
    "submit.to_csv('./submit_Hist.csv', index=False)"
   ]
  }
 ],
 "metadata": {
  "kernelspec": {
   "display_name": "Python 3 (ipykernel)",
   "language": "python",
   "name": "python3"
  },
  "language_info": {
   "codemirror_mode": {
    "name": "ipython",
    "version": 3
   },
   "file_extension": ".py",
   "mimetype": "text/x-python",
   "name": "python",
   "nbconvert_exporter": "python",
   "pygments_lexer": "ipython3",
   "version": "3.9.12"
  }
 },
 "nbformat": 4,
 "nbformat_minor": 5
}
