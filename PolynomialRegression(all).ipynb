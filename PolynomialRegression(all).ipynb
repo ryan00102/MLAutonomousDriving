{
 "cells": [
  {
   "cell_type": "markdown",
   "id": "afe8307c",
   "metadata": {},
   "source": [
    "## 코드"
   ]
  },
  {
   "cell_type": "markdown",
   "id": "62f88633",
   "metadata": {},
   "source": [
    "# Import"
   ]
  },
  {
   "cell_type": "code",
   "execution_count": 8,
   "id": "20c851fa",
   "metadata": {},
   "outputs": [],
   "source": [
    "import pandas as pd\n",
    "import random\n",
    "import os\n",
    "import numpy as np\n",
    "import matplotlib.pyplot as plt\n",
    "\n",
    "from sklearn.linear_model import LinearRegression\n",
    "from sklearn.multioutput import MultiOutputRegressor\n",
    "from sklearn.preprocessing import PolynomialFeatures\n",
    "from sklearn.model_selection import train_test_split\n",
    "from sklearn.metrics import mean_squared_error, r2_score\n",
    "\n",
    "def seed_everything(seed):\n",
    "    random.seed(seed)\n",
    "    os.environ['PYTHONHASHSEED'] = str(seed)\n",
    "    np.random.seed(seed)\n",
    "seed_everything(42) # Seed 고정"
   ]
  },
  {
   "cell_type": "markdown",
   "id": "d07c95e2",
   "metadata": {},
   "source": [
    "# Data Load"
   ]
  },
  {
   "cell_type": "code",
   "execution_count": 9,
   "id": "17706131",
   "metadata": {},
   "outputs": [],
   "source": [
    "train_df = pd.read_csv('train.csv')\n",
    "\n",
    "train_x = train_df.filter(regex='X') # Input : X Featrue\n",
    "train_y = train_df.filter(regex='Y') # Output : Y Feature\n",
    "\n",
    "quadratic = PolynomialFeatures(degree=2) # 차수 = 2\n",
    "PR = LinearRegression()"
   ]
  },
  {
   "cell_type": "markdown",
   "id": "dd1f61ce",
   "metadata": {},
   "source": [
    "# Regression & Inference"
   ]
  },
  {
   "cell_type": "code",
   "execution_count": 10,
   "id": "1ae56a81",
   "metadata": {},
   "outputs": [],
   "source": [
    "X_quad = quadratic.fit_transform(train_x.values)"
   ]
  },
  {
   "cell_type": "code",
   "execution_count": 11,
   "id": "74a5655b",
   "metadata": {},
   "outputs": [
    {
     "data": {
      "text/plain": [
       "array([[  1.61873117,   1.30692329,   1.22667034, ..., -25.87690725,\n",
       "        -25.86995525, -25.9668585 ],\n",
       "       [  1.54075261,   1.28790536,   1.1550312 , ..., -25.89356371,\n",
       "        -25.89476598, -25.87698543],\n",
       "       [  1.46993549,   1.15437896,   1.1360966 , ..., -25.50909064,\n",
       "        -25.56349177, -25.44070165],\n",
       "       ...,\n",
       "       [  1.30162459,   0.9749375 ,   0.99974958, ..., -26.3751608 ,\n",
       "        -26.37454303, -26.43342986],\n",
       "       [  1.29556366,   0.95326833,   1.0003612 , ..., -26.41469107,\n",
       "        -26.41133675, -26.44573068],\n",
       "       [  1.39633761,   1.11293168,   1.17875602, ..., -26.60283687,\n",
       "        -26.59604734, -26.60551499]])"
      ]
     },
     "execution_count": 11,
     "metadata": {},
     "output_type": "execute_result"
    }
   ],
   "source": [
    "test_x = pd.read_csv('./test.csv').drop(columns=['ID'])\n",
    "PR.fit(X_quad,train_y.values)\n",
    "preds = PR.predict(quadratic.fit_transform(test_x.values))\n",
    "preds"
   ]
  },
  {
   "cell_type": "markdown",
   "id": "b283fecd",
   "metadata": {},
   "source": [
    "# Evaluation"
   ]
  },
  {
   "cell_type": "code",
   "execution_count": null,
   "id": "7d425ee3",
   "metadata": {},
   "outputs": [],
   "source": []
  },
  {
   "cell_type": "markdown",
   "id": "74de898a",
   "metadata": {},
   "source": [
    "# Submit"
   ]
  },
  {
   "cell_type": "code",
   "execution_count": 11,
   "id": "0355c979",
   "metadata": {},
   "outputs": [],
   "source": [
    "submit = pd.read_csv('./sample_submission.csv')"
   ]
  },
  {
   "cell_type": "code",
   "execution_count": 12,
   "id": "cbc0ba65",
   "metadata": {},
   "outputs": [
    {
     "name": "stdout",
     "output_type": "stream",
     "text": [
      "Done.\n"
     ]
    }
   ],
   "source": [
    "for idx, col in enumerate(submit.columns):\n",
    "    if col=='ID':\n",
    "        continue\n",
    "    submit[col] = preds[:,idx-1]\n",
    "print('Done.')"
   ]
  },
  {
   "cell_type": "code",
   "execution_count": 13,
   "id": "2f0ce50c",
   "metadata": {},
   "outputs": [],
   "source": [
    "submit.to_csv('./submit_PR_all.csv', index=False)"
   ]
  }
 ],
 "metadata": {
  "kernelspec": {
   "display_name": "Python 3 (ipykernel)",
   "language": "python",
   "name": "python3"
  },
  "language_info": {
   "codemirror_mode": {
    "name": "ipython",
    "version": 3
   },
   "file_extension": ".py",
   "mimetype": "text/x-python",
   "name": "python",
   "nbconvert_exporter": "python",
   "pygments_lexer": "ipython3",
   "version": "3.9.12"
  }
 },
 "nbformat": 4,
 "nbformat_minor": 5
}
