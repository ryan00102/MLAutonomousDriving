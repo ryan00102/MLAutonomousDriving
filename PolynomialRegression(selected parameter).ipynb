{
 "cells": [
  {
   "cell_type": "markdown",
   "id": "afe8307c",
   "metadata": {},
   "source": [
    "## 코드"
   ]
  },
  {
   "cell_type": "markdown",
   "id": "62f88633",
   "metadata": {},
   "source": [
    "# Import"
   ]
  },
  {
   "cell_type": "code",
   "execution_count": 161,
   "id": "20c851fa",
   "metadata": {},
   "outputs": [],
   "source": [
    "import pandas as pd\n",
    "import random\n",
    "import os\n",
    "import numpy as np\n",
    "import matplotlib.pyplot as plt\n",
    "\n",
    "from sklearn.linear_model import LinearRegression\n",
    "from sklearn.multioutput import MultiOutputRegressor\n",
    "from sklearn.preprocessing import PolynomialFeatures\n",
    "\n",
    "def seed_everything(seed):\n",
    "    random.seed(seed)\n",
    "    os.environ['PYTHONHASHSEED'] = str(seed)\n",
    "    np.random.seed(seed)\n",
    "seed_everything(42) # Seed 고정"
   ]
  },
  {
   "cell_type": "markdown",
   "id": "d07c95e2",
   "metadata": {},
   "source": [
    "# Data Load"
   ]
  },
  {
   "cell_type": "code",
   "execution_count": 162,
   "id": "17706131",
   "metadata": {},
   "outputs": [],
   "source": [
    "train_df = pd.read_csv('train.csv')\n",
    "\n",
    "train_x = train_df.filter(regex='X') # Input : X Featrue\n",
    "train_y = train_df.filter(regex='Y') # Output : Y Feature\n",
    "\n",
    "quadratic = PolynomialFeatures(degree=2) # 차수 = 2\n",
    "PR = LinearRegression()"
   ]
  },
  {
   "cell_type": "markdown",
   "id": "dd1f61ce",
   "metadata": {},
   "source": [
    "# Regression & Inference"
   ]
  },
  {
   "cell_type": "markdown",
   "id": "abfdb1a2",
   "metadata": {},
   "source": [
    "## Y1"
   ]
  },
  {
   "cell_type": "code",
   "execution_count": 163,
   "id": "1ae56a81",
   "metadata": {},
   "outputs": [],
   "source": [
    "selected_x = train_df[['X_48', 'X_22', 'X_19', 'X_18', 'X_52', 'X_17', 'X_45', 'X_13', 'X_49', 'X_51', 'X_40', 'X_46', 'X_04', 'X_23', 'X_47', 'X_03', 'X_06', 'X_20', 'X_05', 'X_27', 'X_24', 'X_07', 'X_21', 'X_15', 'X_43', 'X_42', 'X_33', 'X_41', 'X_56', 'X_30', 'X_31', 'X_25', 'X_39']] # selected input : X feature\n",
    "target_y = train_df['Y_01']\n",
    "X_quad = quadratic.fit_transform(selected_x.values)"
   ]
  },
  {
   "cell_type": "code",
   "execution_count": 164,
   "id": "74a5655b",
   "metadata": {},
   "outputs": [
    {
     "data": {
      "text/plain": [
       "[array([1.40661554, 1.50023744, 1.35408539, ..., 1.26543326, 1.17566537,\n",
       "        1.32055691])]"
      ]
     },
     "execution_count": 164,
     "metadata": {},
     "output_type": "execute_result"
    }
   ],
   "source": [
    "test_x = pd.read_csv('./test.csv')[['X_48', 'X_22', 'X_19', 'X_18', 'X_52', 'X_17', 'X_45', 'X_13', 'X_49', 'X_51', 'X_40', 'X_46', 'X_04', 'X_23', 'X_47', 'X_03', 'X_06', 'X_20', 'X_05', 'X_27', 'X_24', 'X_07', 'X_21', 'X_15', 'X_43', 'X_42', 'X_33', 'X_41', 'X_56', 'X_30', 'X_31', 'X_25', 'X_39']]\n",
    "PR.fit(X_quad,target_y.values)\n",
    "arr = PR.predict(quadratic.fit_transform(test_x.values))\n",
    "preds = []\n",
    "preds.append(arr)\n",
    "preds"
   ]
  },
  {
   "cell_type": "markdown",
   "id": "54f25b66",
   "metadata": {},
   "source": [
    "## Y2"
   ]
  },
  {
   "cell_type": "code",
   "execution_count": 165,
   "id": "cc01c82d",
   "metadata": {},
   "outputs": [],
   "source": [
    "selected_x = train_df[['X_48', 'X_22', 'X_18', 'X_43', 'X_17', 'X_51', 'X_42', 'X_49', 'X_40', 'X_05', 'X_52', 'X_06', 'X_45', 'X_27', 'X_24', 'X_25', 'X_56', 'X_09', 'X_19', 'X_20', 'X_46', 'X_04', 'X_23', 'X_47', 'X_16', 'X_15', 'X_41', 'X_28', 'X_39']]\n",
    "target_y = train_df['Y_02']\n",
    "X_quad = quadratic.fit_transform(selected_x.values)"
   ]
  },
  {
   "cell_type": "code",
   "execution_count": 166,
   "id": "3807587c",
   "metadata": {},
   "outputs": [
    {
     "data": {
      "text/plain": [
       "[array([1.40661554, 1.50023744, 1.35408539, ..., 1.26543326, 1.17566537,\n",
       "        1.32055691]),\n",
       " array([1.17405263, 1.22583945, 1.19551093, ..., 0.96757852, 0.88475016,\n",
       "        0.98504364])]"
      ]
     },
     "execution_count": 166,
     "metadata": {},
     "output_type": "execute_result"
    }
   ],
   "source": [
    "test_x = pd.read_csv('./test.csv')[['X_48', 'X_22', 'X_18', 'X_43', 'X_17', 'X_51', 'X_42', 'X_49', 'X_40', 'X_05', 'X_52', 'X_06', 'X_45', 'X_27', 'X_24', 'X_25', 'X_56', 'X_09', 'X_19', 'X_20', 'X_46', 'X_04', 'X_23', 'X_47', 'X_16', 'X_15', 'X_41', 'X_28', 'X_39']]\n",
    "PR.fit(X_quad,target_y.values)\n",
    "arr = PR.predict(quadratic.fit_transform(test_x.values))\n",
    "preds.append(arr)\n",
    "preds"
   ]
  },
  {
   "cell_type": "markdown",
   "id": "b973e9b5",
   "metadata": {},
   "source": [
    "## Y3"
   ]
  },
  {
   "cell_type": "code",
   "execution_count": 167,
   "id": "5ea5305b",
   "metadata": {},
   "outputs": [],
   "source": [
    "selected_x = train_df[['X_48', 'X_18', 'X_17', 'X_43', 'X_22', 'X_19', 'X_49', 'X_51', 'X_05', 'X_13', 'X_42', 'X_24', 'X_25', 'X_52', 'X_06', 'X_40', 'X_46', 'X_45', 'X_56', 'X_04', 'X_23', 'X_47', 'X_32', 'X_03', 'X_27', 'X_33', 'X_01', 'X_20', 'X_21', 'X_12', 'X_10', 'X_39', 'X_28', 'X_16', 'X_41']] # selected input : X feature\n",
    "target_y = train_df['Y_03']\n",
    "X_quad = quadratic.fit_transform(selected_x.values)"
   ]
  },
  {
   "cell_type": "code",
   "execution_count": 168,
   "id": "aa07bdb2",
   "metadata": {},
   "outputs": [
    {
     "data": {
      "text/plain": [
       "[array([1.40661554, 1.50023744, 1.35408539, ..., 1.26543326, 1.17566537,\n",
       "        1.32055691]),\n",
       " array([1.17405263, 1.22583945, 1.19551093, ..., 0.96757852, 0.88475016,\n",
       "        0.98504364]),\n",
       " array([1.18262813, 1.14593754, 1.05064806, ..., 1.00162311, 0.95123725,\n",
       "        1.03694612])]"
      ]
     },
     "execution_count": 168,
     "metadata": {},
     "output_type": "execute_result"
    }
   ],
   "source": [
    "test_x = pd.read_csv('./test.csv')[['X_48', 'X_18', 'X_17', 'X_43', 'X_22', 'X_19', 'X_49', 'X_51', 'X_05', 'X_13', 'X_42', 'X_24', 'X_25', 'X_52', 'X_06', 'X_40', 'X_46', 'X_45', 'X_56', 'X_04', 'X_23', 'X_47', 'X_32', 'X_03', 'X_27', 'X_33', 'X_01', 'X_20', 'X_21', 'X_12', 'X_10', 'X_39', 'X_28', 'X_16', 'X_41']]\n",
    "PR.fit(X_quad,target_y.values)\n",
    "arr = PR.predict(quadratic.fit_transform(test_x.values))\n",
    "preds.append(arr)\n",
    "preds"
   ]
  },
  {
   "cell_type": "markdown",
   "id": "7abd7272",
   "metadata": {},
   "source": [
    "## Y4"
   ]
  },
  {
   "cell_type": "code",
   "execution_count": 169,
   "id": "76f92138",
   "metadata": {},
   "outputs": [],
   "source": [
    "selected_x = train_df[['X_48', 'X_04', 'X_23', 'X_47', 'X_30', 'X_21', 'X_32', 'X_16', 'X_17', 'X_12', 'X_19', 'X_03', 'X_24', 'X_54', 'X_50', 'X_52', 'X_56', 'X_22', 'X_09', 'X_25', 'X_06', 'X_40', 'X_44', 'X_42', 'X_51', 'X_55', 'X_18', 'X_20', 'X_08', 'X_26', 'X_10', 'X_53', 'X_37', 'X_35', 'X_15']] # selected input : X feature\n",
    "target_y = train_df['Y_04']\n",
    "X_quad = quadratic.fit_transform(selected_x.values)"
   ]
  },
  {
   "cell_type": "code",
   "execution_count": 170,
   "id": "b065eaea",
   "metadata": {},
   "outputs": [
    {
     "data": {
      "text/plain": [
       "[array([1.40661554, 1.50023744, 1.35408539, ..., 1.26543326, 1.17566537,\n",
       "        1.32055691]),\n",
       " array([1.17405263, 1.22583945, 1.19551093, ..., 0.96757852, 0.88475016,\n",
       "        0.98504364]),\n",
       " array([1.18262813, 1.14593754, 1.05064806, ..., 1.00162311, 0.95123725,\n",
       "        1.03694612]),\n",
       " array([13.22508986, 13.10899956, 14.5692201 , ..., 13.88338751,\n",
       "        13.39842007, 12.95210017])]"
      ]
     },
     "execution_count": 170,
     "metadata": {},
     "output_type": "execute_result"
    }
   ],
   "source": [
    "test_x = pd.read_csv('./test.csv')[['X_48', 'X_04', 'X_23', 'X_47', 'X_30', 'X_21', 'X_32', 'X_16', 'X_17', 'X_12', 'X_19', 'X_03', 'X_24', 'X_54', 'X_50', 'X_52', 'X_56', 'X_22', 'X_09', 'X_25', 'X_06', 'X_40', 'X_44', 'X_42', 'X_51', 'X_55', 'X_18', 'X_20', 'X_08', 'X_26', 'X_10', 'X_53', 'X_37', 'X_35', 'X_15']]\n",
    "PR.fit(X_quad,target_y.values)\n",
    "arr = PR.predict(quadratic.fit_transform(test_x.values))\n",
    "preds.append(arr)\n",
    "preds"
   ]
  },
  {
   "cell_type": "markdown",
   "id": "1255eead",
   "metadata": {},
   "source": [
    "## Y5"
   ]
  },
  {
   "cell_type": "code",
   "execution_count": 171,
   "id": "dd429a1a",
   "metadata": {},
   "outputs": [],
   "source": [
    "selected_x = train_df[['X_48', 'X_56', 'X_32', 'X_12', 'X_15', 'X_18', 'X_17', 'X_04', 'X_23', 'X_47', 'X_33', 'X_29', 'X_09', 'X_40', 'X_54', 'X_50', 'X_44', 'X_49', 'X_51', 'X_55', 'X_03', 'X_30', 'X_19', 'X_28', 'X_53', 'X_13', 'X_35', 'X_01', 'X_06', 'X_52', 'X_37', 'X_31', 'X_45', 'X_26', 'X_10']] # selected input : X feature\n",
    "target_y = train_df['Y_05']\n",
    "X_quad = quadratic.fit_transform(selected_x.values)"
   ]
  },
  {
   "cell_type": "code",
   "execution_count": 172,
   "id": "4b8fa0dc",
   "metadata": {},
   "outputs": [
    {
     "data": {
      "text/plain": [
       "[array([1.40661554, 1.50023744, 1.35408539, ..., 1.26543326, 1.17566537,\n",
       "        1.32055691]),\n",
       " array([1.17405263, 1.22583945, 1.19551093, ..., 0.96757852, 0.88475016,\n",
       "        0.98504364]),\n",
       " array([1.18262813, 1.14593754, 1.05064806, ..., 1.00162311, 0.95123725,\n",
       "        1.03694612]),\n",
       " array([13.22508986, 13.10899956, 14.5692201 , ..., 13.88338751,\n",
       "        13.39842007, 12.95210017]),\n",
       " array([31.07228282, 30.94047105, 31.14679382, ..., 31.17163696,\n",
       "        31.44131116, 31.08401761])]"
      ]
     },
     "execution_count": 172,
     "metadata": {},
     "output_type": "execute_result"
    }
   ],
   "source": [
    "test_x = pd.read_csv('./test.csv')[['X_48', 'X_56', 'X_32', 'X_12', 'X_15', 'X_18', 'X_17', 'X_04', 'X_23', 'X_47', 'X_33', 'X_29', 'X_09', 'X_40', 'X_54', 'X_50', 'X_44', 'X_49', 'X_51', 'X_55', 'X_03', 'X_30', 'X_19', 'X_28', 'X_53', 'X_13', 'X_35', 'X_01', 'X_06', 'X_52', 'X_37', 'X_31', 'X_45', 'X_26', 'X_10']]\n",
    "PR.fit(X_quad,target_y.values)\n",
    "arr = PR.predict(quadratic.fit_transform(test_x.values))\n",
    "preds.append(arr)\n",
    "preds"
   ]
  },
  {
   "cell_type": "markdown",
   "id": "ca776981",
   "metadata": {},
   "source": [
    "## Y6"
   ]
  },
  {
   "cell_type": "code",
   "execution_count": 173,
   "id": "f7af76f3",
   "metadata": {},
   "outputs": [],
   "source": [
    "selected_x = train_df[['X_48', 'X_19', 'X_30', 'X_56', 'X_05', 'X_06', 'X_26', 'X_49', 'X_17', 'X_18', 'X_16', 'X_44', 'X_13', 'X_43', 'X_51', 'X_55', 'X_50', 'X_09', 'X_04', 'X_23', 'X_47', 'X_03', 'X_22']] # selected input : X feature\n",
    "target_y = train_df['Y_06']\n",
    "X_quad = quadratic.fit_transform(selected_x.values)"
   ]
  },
  {
   "cell_type": "code",
   "execution_count": 174,
   "id": "6a36c156",
   "metadata": {},
   "outputs": [
    {
     "data": {
      "text/plain": [
       "[array([1.40661554, 1.50023744, 1.35408539, ..., 1.26543326, 1.17566537,\n",
       "        1.32055691]),\n",
       " array([1.17405263, 1.22583945, 1.19551093, ..., 0.96757852, 0.88475016,\n",
       "        0.98504364]),\n",
       " array([1.18262813, 1.14593754, 1.05064806, ..., 1.00162311, 0.95123725,\n",
       "        1.03694612]),\n",
       " array([13.22508986, 13.10899956, 14.5692201 , ..., 13.88338751,\n",
       "        13.39842007, 12.95210017]),\n",
       " array([31.07228282, 30.94047105, 31.14679382, ..., 31.17163696,\n",
       "        31.44131116, 31.08401761]),\n",
       " array([17.02822859, 16.78892307, 16.54909589, ..., 15.83200265,\n",
       "        16.21855118, 16.38044562])]"
      ]
     },
     "execution_count": 174,
     "metadata": {},
     "output_type": "execute_result"
    }
   ],
   "source": [
    "test_x = pd.read_csv('./test.csv')[['X_48', 'X_19', 'X_30', 'X_56', 'X_05', 'X_06', 'X_26', 'X_49', 'X_17', 'X_18', 'X_16', 'X_44', 'X_13', 'X_43', 'X_51', 'X_55', 'X_50', 'X_09', 'X_04', 'X_23', 'X_47', 'X_03', 'X_22']]\n",
    "PR.fit(X_quad,target_y.values)\n",
    "arr = PR.predict(quadratic.fit_transform(test_x.values))\n",
    "preds.append(arr)\n",
    "preds"
   ]
  },
  {
   "cell_type": "markdown",
   "id": "dd1050cd",
   "metadata": {},
   "source": [
    "## Y7"
   ]
  },
  {
   "cell_type": "code",
   "execution_count": 175,
   "id": "81720e68",
   "metadata": {},
   "outputs": [],
   "source": [
    "selected_x = train_df[['X_48', 'X_04', 'X_23', 'X_47', 'X_19', 'X_32', 'X_21', 'X_15', 'X_18', 'X_03', 'X_17', 'X_50', 'X_54', 'X_41', 'X_24', 'X_12', 'X_14', 'X_38', 'X_31', 'X_09', 'X_56', 'X_52', 'X_06', 'X_05', 'X_22', 'X_33', 'X_29', 'X_55']] # selected input : X feature\n",
    "target_y = train_df['Y_07']\n",
    "X_quad = quadratic.fit_transform(selected_x.values)"
   ]
  },
  {
   "cell_type": "code",
   "execution_count": 176,
   "id": "5c1e3ef1",
   "metadata": {},
   "outputs": [
    {
     "data": {
      "text/plain": [
       "[array([1.40661554, 1.50023744, 1.35408539, ..., 1.26543326, 1.17566537,\n",
       "        1.32055691]),\n",
       " array([1.17405263, 1.22583945, 1.19551093, ..., 0.96757852, 0.88475016,\n",
       "        0.98504364]),\n",
       " array([1.18262813, 1.14593754, 1.05064806, ..., 1.00162311, 0.95123725,\n",
       "        1.03694612]),\n",
       " array([13.22508986, 13.10899956, 14.5692201 , ..., 13.88338751,\n",
       "        13.39842007, 12.95210017]),\n",
       " array([31.07228282, 30.94047105, 31.14679382, ..., 31.17163696,\n",
       "        31.44131116, 31.08401761]),\n",
       " array([17.02822859, 16.78892307, 16.54909589, ..., 15.83200265,\n",
       "        16.21855118, 16.38044562]),\n",
       " array([3.29617939, 3.19402102, 3.02348267, ..., 3.16183963, 3.16573038,\n",
       "        3.22174274])]"
      ]
     },
     "execution_count": 176,
     "metadata": {},
     "output_type": "execute_result"
    }
   ],
   "source": [
    "test_x = pd.read_csv('./test.csv')[['X_48', 'X_04', 'X_23', 'X_47', 'X_19', 'X_32', 'X_21', 'X_15', 'X_18', 'X_03', 'X_17', 'X_50', 'X_54', 'X_41', 'X_24', 'X_12', 'X_14', 'X_38', 'X_31', 'X_09', 'X_56', 'X_52', 'X_06', 'X_05', 'X_22', 'X_33', 'X_29', 'X_55']]\n",
    "PR.fit(X_quad,target_y.values)\n",
    "arr = PR.predict(quadratic.fit_transform(test_x.values))\n",
    "preds.append(arr)\n",
    "preds"
   ]
  },
  {
   "cell_type": "markdown",
   "id": "a0e9407c",
   "metadata": {},
   "source": [
    "## Y8"
   ]
  },
  {
   "cell_type": "code",
   "execution_count": 177,
   "id": "ff9ddafb",
   "metadata": {},
   "outputs": [],
   "source": [
    "selected_x = train_df[['X_48', 'X_20', 'X_32', 'X_30', 'X_03', 'X_42', 'X_22', 'X_52', 'X_40', 'X_17', 'X_18', 'X_15', 'X_10', 'X_51', 'X_55', 'X_04', 'X_23', 'X_47', 'X_09', 'X_27', 'X_56', 'X_41', 'X_14', 'X_54', 'X_53', 'X_35', 'X_44']] # selected input : X feature\n",
    "target_y = train_df['Y_08']\n",
    "X_quad = quadratic.fit_transform(selected_x.values)"
   ]
  },
  {
   "cell_type": "code",
   "execution_count": 178,
   "id": "012398e2",
   "metadata": {},
   "outputs": [
    {
     "data": {
      "text/plain": [
       "[array([1.40661554, 1.50023744, 1.35408539, ..., 1.26543326, 1.17566537,\n",
       "        1.32055691]),\n",
       " array([1.17405263, 1.22583945, 1.19551093, ..., 0.96757852, 0.88475016,\n",
       "        0.98504364]),\n",
       " array([1.18262813, 1.14593754, 1.05064806, ..., 1.00162311, 0.95123725,\n",
       "        1.03694612]),\n",
       " array([13.22508986, 13.10899956, 14.5692201 , ..., 13.88338751,\n",
       "        13.39842007, 12.95210017]),\n",
       " array([31.07228282, 30.94047105, 31.14679382, ..., 31.17163696,\n",
       "        31.44131116, 31.08401761]),\n",
       " array([17.02822859, 16.78892307, 16.54909589, ..., 15.83200265,\n",
       "        16.21855118, 16.38044562]),\n",
       " array([3.29617939, 3.19402102, 3.02348267, ..., 3.16183963, 3.16573038,\n",
       "        3.22174274]),\n",
       " array([-26.17950333, -26.09642685, -25.6653241 , ..., -26.62554062,\n",
       "        -26.59866036, -26.63975037])]"
      ]
     },
     "execution_count": 178,
     "metadata": {},
     "output_type": "execute_result"
    }
   ],
   "source": [
    "test_x = pd.read_csv('./test.csv')[['X_48', 'X_20', 'X_32', 'X_30', 'X_03', 'X_42', 'X_22', 'X_52', 'X_40', 'X_17', 'X_18', 'X_15', 'X_10', 'X_51', 'X_55', 'X_04', 'X_23', 'X_47', 'X_09', 'X_27', 'X_56', 'X_41', 'X_14', 'X_54', 'X_53', 'X_35', 'X_44']]\n",
    "PR.fit(X_quad,target_y.values)\n",
    "arr = PR.predict(quadratic.fit_transform(test_x.values))\n",
    "preds.append(arr)\n",
    "preds"
   ]
  },
  {
   "cell_type": "markdown",
   "id": "d36992d4",
   "metadata": {},
   "source": [
    "## Y9"
   ]
  },
  {
   "cell_type": "code",
   "execution_count": 179,
   "id": "9e4657eb",
   "metadata": {},
   "outputs": [],
   "source": [
    "selected_x = train_df[['X_48', 'X_20', 'X_30', 'X_42', 'X_03', 'X_32', 'X_22', 'X_52', 'X_40', 'X_17', 'X_18', 'X_15', 'X_04', 'X_23', 'X_47', 'X_51', 'X_55', 'X_09', 'X_12', 'X_41', 'X_10', 'X_14', 'X_56', 'X_54', 'X_53', 'X_35']] # selected input : X feature\n",
    "target_y = train_df['Y_09']\n",
    "X_quad = quadratic.fit_transform(selected_x.values)"
   ]
  },
  {
   "cell_type": "code",
   "execution_count": 180,
   "id": "f41f6292",
   "metadata": {},
   "outputs": [
    {
     "data": {
      "text/plain": [
       "[array([1.40661554, 1.50023744, 1.35408539, ..., 1.26543326, 1.17566537,\n",
       "        1.32055691]),\n",
       " array([1.17405263, 1.22583945, 1.19551093, ..., 0.96757852, 0.88475016,\n",
       "        0.98504364]),\n",
       " array([1.18262813, 1.14593754, 1.05064806, ..., 1.00162311, 0.95123725,\n",
       "        1.03694612]),\n",
       " array([13.22508986, 13.10899956, 14.5692201 , ..., 13.88338751,\n",
       "        13.39842007, 12.95210017]),\n",
       " array([31.07228282, 30.94047105, 31.14679382, ..., 31.17163696,\n",
       "        31.44131116, 31.08401761]),\n",
       " array([17.02822859, 16.78892307, 16.54909589, ..., 15.83200265,\n",
       "        16.21855118, 16.38044562]),\n",
       " array([3.29617939, 3.19402102, 3.02348267, ..., 3.16183963, 3.16573038,\n",
       "        3.22174274]),\n",
       " array([-26.17950333, -26.09642685, -25.6653241 , ..., -26.62554062,\n",
       "        -26.59866036, -26.63975037]),\n",
       " array([-26.19552678, -26.13064331, -25.69644207, ..., -26.59562129,\n",
       "        -26.58581084, -26.59303469])]"
      ]
     },
     "execution_count": 180,
     "metadata": {},
     "output_type": "execute_result"
    }
   ],
   "source": [
    "test_x = pd.read_csv('./test.csv')[['X_48', 'X_20', 'X_30', 'X_42', 'X_03', 'X_32', 'X_22', 'X_52', 'X_40', 'X_17', 'X_18', 'X_15', 'X_04', 'X_23', 'X_47', 'X_51', 'X_55', 'X_09', 'X_12', 'X_41', 'X_10', 'X_14', 'X_56', 'X_54', 'X_53', 'X_35']]\n",
    "PR.fit(X_quad,target_y.values)\n",
    "arr = PR.predict(quadratic.fit_transform(test_x.values))\n",
    "preds.append(arr)\n",
    "preds"
   ]
  },
  {
   "cell_type": "markdown",
   "id": "a57cb5c4",
   "metadata": {},
   "source": [
    "## Y10"
   ]
  },
  {
   "cell_type": "code",
   "execution_count": 181,
   "id": "71620df2",
   "metadata": {},
   "outputs": [],
   "source": [
    "selected_x = train_df[['X_48', 'X_04', 'X_23', 'X_47', 'X_18', 'X_15', 'X_22', 'X_42', 'X_30', 'X_56', 'X_49', 'X_03', 'X_09', 'X_51', 'X_16', 'X_27', 'X_24', 'X_41', 'X_32', 'X_45', 'X_17', 'X_21', 'X_01', 'X_40', 'X_55', 'X_52', 'X_54', 'X_53', 'X_29', 'X_10', 'X_08', 'X_44', 'X_31', 'X_50', 'X_07']] # selected input : X feature\n",
    "target_y = train_df['Y_10']\n",
    "X_quad = quadratic.fit_transform(selected_x.values)"
   ]
  },
  {
   "cell_type": "code",
   "execution_count": 182,
   "id": "d6d43340",
   "metadata": {},
   "outputs": [
    {
     "data": {
      "text/plain": [
       "[array([1.40661554, 1.50023744, 1.35408539, ..., 1.26543326, 1.17566537,\n",
       "        1.32055691]),\n",
       " array([1.17405263, 1.22583945, 1.19551093, ..., 0.96757852, 0.88475016,\n",
       "        0.98504364]),\n",
       " array([1.18262813, 1.14593754, 1.05064806, ..., 1.00162311, 0.95123725,\n",
       "        1.03694612]),\n",
       " array([13.22508986, 13.10899956, 14.5692201 , ..., 13.88338751,\n",
       "        13.39842007, 12.95210017]),\n",
       " array([31.07228282, 30.94047105, 31.14679382, ..., 31.17163696,\n",
       "        31.44131116, 31.08401761]),\n",
       " array([17.02822859, 16.78892307, 16.54909589, ..., 15.83200265,\n",
       "        16.21855118, 16.38044562]),\n",
       " array([3.29617939, 3.19402102, 3.02348267, ..., 3.16183963, 3.16573038,\n",
       "        3.22174274]),\n",
       " array([-26.17950333, -26.09642685, -25.6653241 , ..., -26.62554062,\n",
       "        -26.59866036, -26.63975037]),\n",
       " array([-26.19552678, -26.13064331, -25.69644207, ..., -26.59562129,\n",
       "        -26.58581084, -26.59303469]),\n",
       " array([-22.34997098, -22.16896883, -21.95401703, ..., -22.63747582,\n",
       "        -22.49835   , -22.66555667])]"
      ]
     },
     "execution_count": 182,
     "metadata": {},
     "output_type": "execute_result"
    }
   ],
   "source": [
    "test_x = pd.read_csv('./test.csv')[['X_48', 'X_04', 'X_23', 'X_47', 'X_18', 'X_15', 'X_22', 'X_42', 'X_30', 'X_56', 'X_49', 'X_03', 'X_09', 'X_51', 'X_16', 'X_27', 'X_24', 'X_41', 'X_32', 'X_45', 'X_17', 'X_21', 'X_01', 'X_40', 'X_55', 'X_52', 'X_54', 'X_53', 'X_29', 'X_10', 'X_08', 'X_44', 'X_31', 'X_50', 'X_07']]\n",
    "PR.fit(X_quad,target_y.values)\n",
    "arr = PR.predict(quadratic.fit_transform(test_x.values))\n",
    "preds.append(arr)\n",
    "preds"
   ]
  },
  {
   "cell_type": "markdown",
   "id": "8c356126",
   "metadata": {},
   "source": [
    "## Y11"
   ]
  },
  {
   "cell_type": "code",
   "execution_count": 183,
   "id": "d8c854a1",
   "metadata": {},
   "outputs": [],
   "source": [
    "selected_x = train_df[['X_48', 'X_17', 'X_18', 'X_15', 'X_30', 'X_51', 'X_42', 'X_03', 'X_01', 'X_56', 'X_05', 'X_54', 'X_31', 'X_21', 'X_52', 'X_55', 'X_10', 'X_50', 'X_04', 'X_23', 'X_47', 'X_32', 'X_09', 'X_33', 'X_35']] # selected input : X feature\n",
    "target_y = train_df['Y_11']\n",
    "X_quad = quadratic.fit_transform(selected_x.values)"
   ]
  },
  {
   "cell_type": "code",
   "execution_count": 184,
   "id": "f328d274",
   "metadata": {},
   "outputs": [
    {
     "data": {
      "text/plain": [
       "[array([1.40661554, 1.50023744, 1.35408539, ..., 1.26543326, 1.17566537,\n",
       "        1.32055691]),\n",
       " array([1.17405263, 1.22583945, 1.19551093, ..., 0.96757852, 0.88475016,\n",
       "        0.98504364]),\n",
       " array([1.18262813, 1.14593754, 1.05064806, ..., 1.00162311, 0.95123725,\n",
       "        1.03694612]),\n",
       " array([13.22508986, 13.10899956, 14.5692201 , ..., 13.88338751,\n",
       "        13.39842007, 12.95210017]),\n",
       " array([31.07228282, 30.94047105, 31.14679382, ..., 31.17163696,\n",
       "        31.44131116, 31.08401761]),\n",
       " array([17.02822859, 16.78892307, 16.54909589, ..., 15.83200265,\n",
       "        16.21855118, 16.38044562]),\n",
       " array([3.29617939, 3.19402102, 3.02348267, ..., 3.16183963, 3.16573038,\n",
       "        3.22174274]),\n",
       " array([-26.17950333, -26.09642685, -25.6653241 , ..., -26.62554062,\n",
       "        -26.59866036, -26.63975037]),\n",
       " array([-26.19552678, -26.13064331, -25.69644207, ..., -26.59562129,\n",
       "        -26.58581084, -26.59303469]),\n",
       " array([-22.34997098, -22.16896883, -21.95401703, ..., -22.63747582,\n",
       "        -22.49835   , -22.66555667]),\n",
       " array([24.49753003, 24.40991925, 24.6605656 , ..., 24.35878144,\n",
       "        24.41642867, 24.12558757])]"
      ]
     },
     "execution_count": 184,
     "metadata": {},
     "output_type": "execute_result"
    }
   ],
   "source": [
    "test_x = pd.read_csv('./test.csv')[['X_48', 'X_17', 'X_18', 'X_15', 'X_30', 'X_51', 'X_42', 'X_03', 'X_01', 'X_56', 'X_05', 'X_54', 'X_31', 'X_21', 'X_52', 'X_55', 'X_10', 'X_50', 'X_04', 'X_23', 'X_47', 'X_32', 'X_09', 'X_33', 'X_35']]\n",
    "PR.fit(X_quad,target_y.values)\n",
    "arr = PR.predict(quadratic.fit_transform(test_x.values))\n",
    "preds.append(arr)\n",
    "preds"
   ]
  },
  {
   "cell_type": "markdown",
   "id": "83fb6ddb",
   "metadata": {},
   "source": [
    "## Y12"
   ]
  },
  {
   "cell_type": "code",
   "execution_count": 185,
   "id": "d8950878",
   "metadata": {},
   "outputs": [],
   "source": [
    "selected_x = train_df[['X_48', 'X_20', 'X_30', 'X_42', 'X_03', 'X_32', 'X_22', 'X_56', 'X_40', 'X_18', 'X_15', 'X_51', 'X_04', 'X_23', 'X_47', 'X_09', 'X_13', 'X_10', 'X_41', 'X_55', 'X_52', 'X_12', 'X_54', 'X_53', 'X_35']] # selected input : X feature\n",
    "target_y = train_df['Y_12']\n",
    "X_quad = quadratic.fit_transform(selected_x.values)"
   ]
  },
  {
   "cell_type": "code",
   "execution_count": 186,
   "id": "c3e30864",
   "metadata": {},
   "outputs": [
    {
     "data": {
      "text/plain": [
       "[array([1.40661554, 1.50023744, 1.35408539, ..., 1.26543326, 1.17566537,\n",
       "        1.32055691]),\n",
       " array([1.17405263, 1.22583945, 1.19551093, ..., 0.96757852, 0.88475016,\n",
       "        0.98504364]),\n",
       " array([1.18262813, 1.14593754, 1.05064806, ..., 1.00162311, 0.95123725,\n",
       "        1.03694612]),\n",
       " array([13.22508986, 13.10899956, 14.5692201 , ..., 13.88338751,\n",
       "        13.39842007, 12.95210017]),\n",
       " array([31.07228282, 30.94047105, 31.14679382, ..., 31.17163696,\n",
       "        31.44131116, 31.08401761]),\n",
       " array([17.02822859, 16.78892307, 16.54909589, ..., 15.83200265,\n",
       "        16.21855118, 16.38044562]),\n",
       " array([3.29617939, 3.19402102, 3.02348267, ..., 3.16183963, 3.16573038,\n",
       "        3.22174274]),\n",
       " array([-26.17950333, -26.09642685, -25.6653241 , ..., -26.62554062,\n",
       "        -26.59866036, -26.63975037]),\n",
       " array([-26.19552678, -26.13064331, -25.69644207, ..., -26.59562129,\n",
       "        -26.58581084, -26.59303469]),\n",
       " array([-22.34997098, -22.16896883, -21.95401703, ..., -22.63747582,\n",
       "        -22.49835   , -22.66555667]),\n",
       " array([24.49753003, 24.40991925, 24.6605656 , ..., 24.35878144,\n",
       "        24.41642867, 24.12558757]),\n",
       " array([-26.12340045, -26.05087543, -25.61576295, ..., -26.52780986,\n",
       "        -26.51013923, -26.54874492])]"
      ]
     },
     "execution_count": 186,
     "metadata": {},
     "output_type": "execute_result"
    }
   ],
   "source": [
    "test_x = pd.read_csv('./test.csv')[['X_48', 'X_20', 'X_30', 'X_42', 'X_03', 'X_32', 'X_22', 'X_56', 'X_40', 'X_18', 'X_15', 'X_51', 'X_04', 'X_23', 'X_47', 'X_09', 'X_13', 'X_10', 'X_41', 'X_55', 'X_52', 'X_12', 'X_54', 'X_53', 'X_35']]\n",
    "PR.fit(X_quad,target_y.values)\n",
    "arr = PR.predict(quadratic.fit_transform(test_x.values))\n",
    "preds.append(arr)\n",
    "preds"
   ]
  },
  {
   "cell_type": "markdown",
   "id": "81c1a1c2",
   "metadata": {},
   "source": [
    "## Y13"
   ]
  },
  {
   "cell_type": "code",
   "execution_count": 187,
   "id": "238b71a5",
   "metadata": {},
   "outputs": [],
   "source": [
    "selected_x = train_df[['X_48', 'X_20', 'X_30', 'X_42', 'X_03', 'X_32', 'X_22', 'X_52', 'X_40', 'X_17', 'X_18', 'X_15', 'X_51', 'X_04', 'X_23', 'X_47', 'X_09', 'X_55', 'X_10', 'X_56', 'X_41', 'X_14', 'X_12', 'X_54', 'X_53', 'X_35']] # selected input : X feature\n",
    "target_y = train_df['Y_13']\n",
    "X_quad = quadratic.fit_transform(selected_x.values)"
   ]
  },
  {
   "cell_type": "code",
   "execution_count": 188,
   "id": "d0ed0e6f",
   "metadata": {},
   "outputs": [
    {
     "data": {
      "text/plain": [
       "[array([1.40661554, 1.50023744, 1.35408539, ..., 1.26543326, 1.17566537,\n",
       "        1.32055691]),\n",
       " array([1.17405263, 1.22583945, 1.19551093, ..., 0.96757852, 0.88475016,\n",
       "        0.98504364]),\n",
       " array([1.18262813, 1.14593754, 1.05064806, ..., 1.00162311, 0.95123725,\n",
       "        1.03694612]),\n",
       " array([13.22508986, 13.10899956, 14.5692201 , ..., 13.88338751,\n",
       "        13.39842007, 12.95210017]),\n",
       " array([31.07228282, 30.94047105, 31.14679382, ..., 31.17163696,\n",
       "        31.44131116, 31.08401761]),\n",
       " array([17.02822859, 16.78892307, 16.54909589, ..., 15.83200265,\n",
       "        16.21855118, 16.38044562]),\n",
       " array([3.29617939, 3.19402102, 3.02348267, ..., 3.16183963, 3.16573038,\n",
       "        3.22174274]),\n",
       " array([-26.17950333, -26.09642685, -25.6653241 , ..., -26.62554062,\n",
       "        -26.59866036, -26.63975037]),\n",
       " array([-26.19552678, -26.13064331, -25.69644207, ..., -26.59562129,\n",
       "        -26.58581084, -26.59303469]),\n",
       " array([-22.34997098, -22.16896883, -21.95401703, ..., -22.63747582,\n",
       "        -22.49835   , -22.66555667]),\n",
       " array([24.49753003, 24.40991925, 24.6605656 , ..., 24.35878144,\n",
       "        24.41642867, 24.12558757]),\n",
       " array([-26.12340045, -26.05087543, -25.61576295, ..., -26.52780986,\n",
       "        -26.51013923, -26.54874492]),\n",
       " array([-26.11633232, -26.05544022, -25.6227496 , ..., -26.53162125,\n",
       "        -26.51205185, -26.52698544])]"
      ]
     },
     "execution_count": 188,
     "metadata": {},
     "output_type": "execute_result"
    }
   ],
   "source": [
    "test_x = pd.read_csv('./test.csv')[['X_48', 'X_20', 'X_30', 'X_42', 'X_03', 'X_32', 'X_22', 'X_52', 'X_40', 'X_17', 'X_18', 'X_15', 'X_51', 'X_04', 'X_23', 'X_47', 'X_09', 'X_55', 'X_10', 'X_56', 'X_41', 'X_14', 'X_12', 'X_54', 'X_53', 'X_35']]\n",
    "PR.fit(X_quad,target_y.values)\n",
    "arr = PR.predict(quadratic.fit_transform(test_x.values))\n",
    "preds.append(arr)\n",
    "preds"
   ]
  },
  {
   "cell_type": "markdown",
   "id": "a2185074",
   "metadata": {},
   "source": [
    "## Y14"
   ]
  },
  {
   "cell_type": "code",
   "execution_count": 189,
   "id": "3fb50631",
   "metadata": {},
   "outputs": [],
   "source": [
    "selected_x = train_df[['X_48', 'X_20', 'X_32', 'X_30', 'X_03', 'X_42', 'X_22', 'X_52', 'X_40', 'X_18', 'X_15', 'X_04', 'X_23', 'X_47', 'X_51', 'X_55', 'X_09', 'X_27', 'X_10', 'X_56', 'X_54', 'X_41', 'X_13', 'X_53', 'X_12', 'X_35']] # selected input : X feature\n",
    "target_y = train_df['Y_14']\n",
    "X_quad = quadratic.fit_transform(selected_x.values)"
   ]
  },
  {
   "cell_type": "code",
   "execution_count": 190,
   "id": "d0e1f847",
   "metadata": {},
   "outputs": [
    {
     "data": {
      "text/plain": [
       "[array([1.40661554, 1.50023744, 1.35408539, ..., 1.26543326, 1.17566537,\n",
       "        1.32055691]),\n",
       " array([1.17405263, 1.22583945, 1.19551093, ..., 0.96757852, 0.88475016,\n",
       "        0.98504364]),\n",
       " array([1.18262813, 1.14593754, 1.05064806, ..., 1.00162311, 0.95123725,\n",
       "        1.03694612]),\n",
       " array([13.22508986, 13.10899956, 14.5692201 , ..., 13.88338751,\n",
       "        13.39842007, 12.95210017]),\n",
       " array([31.07228282, 30.94047105, 31.14679382, ..., 31.17163696,\n",
       "        31.44131116, 31.08401761]),\n",
       " array([17.02822859, 16.78892307, 16.54909589, ..., 15.83200265,\n",
       "        16.21855118, 16.38044562]),\n",
       " array([3.29617939, 3.19402102, 3.02348267, ..., 3.16183963, 3.16573038,\n",
       "        3.22174274]),\n",
       " array([-26.17950333, -26.09642685, -25.6653241 , ..., -26.62554062,\n",
       "        -26.59866036, -26.63975037]),\n",
       " array([-26.19552678, -26.13064331, -25.69644207, ..., -26.59562129,\n",
       "        -26.58581084, -26.59303469]),\n",
       " array([-22.34997098, -22.16896883, -21.95401703, ..., -22.63747582,\n",
       "        -22.49835   , -22.66555667]),\n",
       " array([24.49753003, 24.40991925, 24.6605656 , ..., 24.35878144,\n",
       "        24.41642867, 24.12558757]),\n",
       " array([-26.12340045, -26.05087543, -25.61576295, ..., -26.52780986,\n",
       "        -26.51013923, -26.54874492]),\n",
       " array([-26.11633232, -26.05544022, -25.6227496 , ..., -26.53162125,\n",
       "        -26.51205185, -26.52698544]),\n",
       " array([-26.12617038, -26.04912351, -25.58531879, ..., -26.53560422,\n",
       "        -26.5217676 , -26.57313655])]"
      ]
     },
     "execution_count": 190,
     "metadata": {},
     "output_type": "execute_result"
    }
   ],
   "source": [
    "test_x = pd.read_csv('./test.csv')[['X_48', 'X_20', 'X_32', 'X_30', 'X_03', 'X_42', 'X_22', 'X_52', 'X_40', 'X_18', 'X_15', 'X_04', 'X_23', 'X_47', 'X_51', 'X_55', 'X_09', 'X_27', 'X_10', 'X_56', 'X_54', 'X_41', 'X_13', 'X_53', 'X_12', 'X_35']]\n",
    "PR.fit(X_quad,target_y.values)\n",
    "arr = PR.predict(quadratic.fit_transform(test_x.values))\n",
    "preds.append(arr)\n",
    "preds"
   ]
  },
  {
   "cell_type": "markdown",
   "id": "b283fecd",
   "metadata": {},
   "source": [
    "# Evaluation"
   ]
  },
  {
   "cell_type": "code",
   "execution_count": 191,
   "id": "7d425ee3",
   "metadata": {},
   "outputs": [
    {
     "data": {
      "text/plain": [
       "39608"
      ]
     },
     "execution_count": 191,
     "metadata": {},
     "output_type": "execute_result"
    }
   ],
   "source": [
    "#LR.score(train_x, train_y) # train set\n",
    "#LR.score(test_x, preds) # "
   ]
  },
  {
   "cell_type": "markdown",
   "id": "74de898a",
   "metadata": {},
   "source": [
    "# Submit"
   ]
  },
  {
   "cell_type": "code",
   "execution_count": 195,
   "id": "0355c979",
   "metadata": {},
   "outputs": [],
   "source": [
    "submit = pd.read_csv('./sample_submission.csv')"
   ]
  },
  {
   "cell_type": "code",
   "execution_count": 196,
   "id": "cbc0ba65",
   "metadata": {},
   "outputs": [
    {
     "name": "stdout",
     "output_type": "stream",
     "text": [
      "Done.\n"
     ]
    }
   ],
   "source": [
    "for idx, col in enumerate(submit.columns):\n",
    "    if col=='ID':\n",
    "        continue\n",
    "    submit[col] = preds[:][idx-1]\n",
    "print('Done.')"
   ]
  },
  {
   "cell_type": "code",
   "execution_count": 197,
   "id": "2f0ce50c",
   "metadata": {},
   "outputs": [],
   "source": [
    "submit.to_csv('./submit_PR_selected.csv', index=False)"
   ]
  }
 ],
 "metadata": {
  "kernelspec": {
   "display_name": "Python 3 (ipykernel)",
   "language": "python",
   "name": "python3"
  },
  "language_info": {
   "codemirror_mode": {
    "name": "ipython",
    "version": 3
   },
   "file_extension": ".py",
   "mimetype": "text/x-python",
   "name": "python",
   "nbconvert_exporter": "python",
   "pygments_lexer": "ipython3",
   "version": "3.9.12"
  }
 },
 "nbformat": 4,
 "nbformat_minor": 5
}
