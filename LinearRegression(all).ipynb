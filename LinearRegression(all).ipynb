{
 "cells": [
  {
   "cell_type": "markdown",
   "id": "afe8307c",
   "metadata": {},
   "source": [
    "## 코드"
   ]
  },
  {
   "cell_type": "markdown",
   "id": "62f88633",
   "metadata": {},
   "source": [
    "# Import"
   ]
  },
  {
   "cell_type": "code",
   "execution_count": 2,
   "id": "20c851fa",
   "metadata": {},
   "outputs": [],
   "source": [
    "import pandas as pd\n",
    "import random\n",
    "import os\n",
    "import numpy as np\n",
    "import matplotlib.pyplot as plt\n",
    "\n",
    "from sklearn.linear_model import LinearRegression\n",
    "from sklearn.model_selection import train_test_split\n",
    "from sklearn.multioutput import MultiOutputRegressor\n",
    "from sklearn.metrics import mean_squared_error, r2_score\n",
    "\n",
    "def seed_everything(seed):\n",
    "    random.seed(seed)\n",
    "    os.environ['PYTHONHASHSEED'] = str(seed)\n",
    "    np.random.seed(seed)\n",
    "seed_everything(42) # Seed 고정"
   ]
  },
  {
   "cell_type": "markdown",
   "id": "d07c95e2",
   "metadata": {},
   "source": [
    "# Data Load"
   ]
  },
  {
   "cell_type": "code",
   "execution_count": 3,
   "id": "17706131",
   "metadata": {},
   "outputs": [],
   "source": [
    "train_df = pd.read_csv('train.csv')\n",
    "\n",
    "train_x = train_df.filter(regex='X') # Input : X Featrue\n",
    "train_y = train_df.filter(regex='Y') # Output : Y Feature"
   ]
  },
  {
   "cell_type": "markdown",
   "id": "dd1f61ce",
   "metadata": {},
   "source": [
    "# Regression & Inference"
   ]
  },
  {
   "cell_type": "code",
   "execution_count": 4,
   "id": "1ae56a81",
   "metadata": {},
   "outputs": [],
   "source": [
    "LR = LinearRegression().fit(train_x, train_y)"
   ]
  },
  {
   "cell_type": "code",
   "execution_count": 8,
   "id": "74a5655b",
   "metadata": {},
   "outputs": [
    {
     "data": {
      "text/plain": [
       "array([[  1.46219971,   1.19297309,   1.13861464, ..., -26.07832693,\n",
       "        -26.07119943, -26.08731723],\n",
       "       [  1.50005245,   1.2181142 ,   1.14748687, ..., -26.05674154,\n",
       "        -26.05247901, -26.06789768],\n",
       "       [  1.38294438,   1.06719986,   1.02130004, ..., -26.00603622,\n",
       "        -26.00219399, -26.01081357],\n",
       "       ...,\n",
       "       [  1.32905496,   0.99591505,   1.00486653, ..., -26.4682435 ,\n",
       "        -26.46095452, -26.47026247],\n",
       "       [  1.33025081,   0.99781269,   1.02050811, ..., -26.46537094,\n",
       "        -26.46249929, -26.47389574],\n",
       "       [  1.38687598,   1.05530691,   1.06183525, ..., -26.43812949,\n",
       "        -26.43469225, -26.44293121]])"
      ]
     },
     "execution_count": 8,
     "metadata": {},
     "output_type": "execute_result"
    }
   ],
   "source": [
    "test_x = pd.read_csv('./test.csv').drop(columns=['ID'])\n",
    "preds = LR.predict(test_x)\n",
    "preds"
   ]
  },
  {
   "cell_type": "markdown",
   "id": "b283fecd",
   "metadata": {},
   "source": [
    "# Evaluation"
   ]
  },
  {
   "cell_type": "code",
   "execution_count": 39,
   "id": "7d425ee3",
   "metadata": {},
   "outputs": [
    {
     "name": "stdout",
     "output_type": "stream",
     "text": [
      "Test MSE: $1\n",
      "R2 Score: 0.0362\n",
      "\n"
     ]
    }
   ],
   "source": [
    "X_train, X_test, y_train, y_test = train_test_split(train_x, train_y, train_size=0.8, test_size=0.2, random_state=42)\n",
    "\n",
    "y_pred = LR.predict(X_test)\n",
    "mse = mean_squared_error(y_test, y_pred)\n",
    "\n",
    "r2 = r2_score(y_test,y_pred)\n",
    "print(f'Test MSE: ${mse:,.0f}')\n",
    "print(f'R2 Score: {r2:,.4f}\\n')"
   ]
  },
  {
   "cell_type": "markdown",
   "id": "74de898a",
   "metadata": {},
   "source": [
    "# Submit"
   ]
  },
  {
   "cell_type": "code",
   "execution_count": 21,
   "id": "0355c979",
   "metadata": {},
   "outputs": [],
   "source": [
    "submit = pd.read_csv('./sample_submission.csv')"
   ]
  },
  {
   "cell_type": "code",
   "execution_count": 22,
   "id": "cbc0ba65",
   "metadata": {},
   "outputs": [
    {
     "name": "stdout",
     "output_type": "stream",
     "text": [
      "Done.\n"
     ]
    }
   ],
   "source": [
    "for idx, col in enumerate(submit.columns):\n",
    "    if col=='ID':\n",
    "        continue\n",
    "    submit[col] = preds[:,idx-1]\n",
    "print('Done.')"
   ]
  },
  {
   "cell_type": "code",
   "execution_count": 23,
   "id": "2f0ce50c",
   "metadata": {},
   "outputs": [],
   "source": [
    "submit.to_csv('./submit_LR_all.csv', index=False)"
   ]
  }
 ],
 "metadata": {
  "kernelspec": {
   "display_name": "Python 3 (ipykernel)",
   "language": "python",
   "name": "python3"
  },
  "language_info": {
   "codemirror_mode": {
    "name": "ipython",
    "version": 3
   },
   "file_extension": ".py",
   "mimetype": "text/x-python",
   "name": "python",
   "nbconvert_exporter": "python",
   "pygments_lexer": "ipython3",
   "version": "3.9.12"
  }
 },
 "nbformat": 4,
 "nbformat_minor": 5
}
