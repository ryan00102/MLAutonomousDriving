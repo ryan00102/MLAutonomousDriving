{
 "cells": [
  {
   "cell_type": "markdown",
   "id": "afe8307c",
   "metadata": {},
   "source": [
    "## 코드"
   ]
  },
  {
   "cell_type": "markdown",
   "id": "62f88633",
   "metadata": {},
   "source": [
    "# Import"
   ]
  },
  {
   "cell_type": "code",
   "execution_count": 3,
   "id": "20c851fa",
   "metadata": {},
   "outputs": [],
   "source": [
    "import pandas as pd\n",
    "import random\n",
    "import os\n",
    "import numpy as np\n",
    "import matplotlib.pyplot as plt\n",
    "\n",
    "from sklearn.linear_model import LinearRegression\n",
    "from sklearn.model_selection import train_test_split\n",
    "from sklearn.multioutput import MultiOutputRegressor\n",
    "from sklearn.metrics import mean_squared_error, r2_score\n",
    "\n",
    "def seed_everything(seed):\n",
    "    random.seed(seed)\n",
    "    os.environ['PYTHONHASHSEED'] = str(seed)\n",
    "    np.random.seed(seed)\n",
    "seed_everything(42) # Seed 고정"
   ]
  },
  {
   "cell_type": "markdown",
   "id": "d07c95e2",
   "metadata": {},
   "source": [
    "# Data Load"
   ]
  },
  {
   "cell_type": "code",
   "execution_count": 4,
   "id": "17706131",
   "metadata": {},
   "outputs": [],
   "source": [
    "train_df = pd.read_csv('train.csv')\n",
    "\n",
    "train_x = train_df.filter(regex='X') # Input : X Featrue\n",
    "train_y = train_df.filter(regex='Y') # Output : Y Feature\n"
   ]
  },
  {
   "cell_type": "markdown",
   "id": "dd1f61ce",
   "metadata": {},
   "source": [
    "# Regression & Inference"
   ]
  },
  {
   "cell_type": "markdown",
   "id": "abfdb1a2",
   "metadata": {},
   "source": [
    "## Y1"
   ]
  },
  {
   "cell_type": "code",
   "execution_count": 5,
   "id": "1ae56a81",
   "metadata": {},
   "outputs": [],
   "source": [
    "selected_x = train_df[['X_48', 'X_22', 'X_19', 'X_18', 'X_52', 'X_17', 'X_45', 'X_13', 'X_49', 'X_51', 'X_40', 'X_46', 'X_04', 'X_23', 'X_47', 'X_03', 'X_06', 'X_20', 'X_05', 'X_27', 'X_24', 'X_07', 'X_21', 'X_15', 'X_43', 'X_42', 'X_33', 'X_41', 'X_56', 'X_30', 'X_31', 'X_25', 'X_39']] # selected input : X feature\n",
    "target_y = train_df['Y_01']\n",
    "LR = LinearRegression().fit(selected_x, target_y)"
   ]
  },
  {
   "cell_type": "code",
   "execution_count": 6,
   "id": "74a5655b",
   "metadata": {},
   "outputs": [
    {
     "data": {
      "text/plain": [
       "[array([1.43825721, 1.49550256, 1.39457171, ..., 1.33692933, 1.33677015,\n",
       "        1.38760283])]"
      ]
     },
     "execution_count": 6,
     "metadata": {},
     "output_type": "execute_result"
    }
   ],
   "source": [
    "test_x = pd.read_csv('./test.csv')[['X_48', 'X_22', 'X_19', 'X_18', 'X_52', 'X_17', 'X_45', 'X_13', 'X_49', 'X_51', 'X_40', 'X_46', 'X_04', 'X_23', 'X_47', 'X_03', 'X_06', 'X_20', 'X_05', 'X_27', 'X_24', 'X_07', 'X_21', 'X_15', 'X_43', 'X_42', 'X_33', 'X_41', 'X_56', 'X_30', 'X_31', 'X_25', 'X_39']]\n",
    "arr = LR.predict(test_x) \n",
    "preds = []\n",
    "preds.append(arr)\n",
    "preds"
   ]
  },
  {
   "cell_type": "markdown",
   "id": "54f25b66",
   "metadata": {},
   "source": [
    "## Y2"
   ]
  },
  {
   "cell_type": "code",
   "execution_count": 7,
   "id": "cc01c82d",
   "metadata": {},
   "outputs": [],
   "source": [
    "selected_x = train_df[['X_48', 'X_22', 'X_18', 'X_43', 'X_17', 'X_51', 'X_42', 'X_49', 'X_40', 'X_05', 'X_52', 'X_06', 'X_45', 'X_27', 'X_24', 'X_25', 'X_56', 'X_09', 'X_19', 'X_20', 'X_46', 'X_04', 'X_23', 'X_47', 'X_16', 'X_15', 'X_41', 'X_28', 'X_39']]\n",
    "target_y = train_df['Y_02']\n",
    "LR = LinearRegression().fit(selected_x, target_y)"
   ]
  },
  {
   "cell_type": "code",
   "execution_count": 8,
   "id": "3807587c",
   "metadata": {},
   "outputs": [
    {
     "data": {
      "text/plain": [
       "[array([1.43825721, 1.49550256, 1.39457171, ..., 1.33692933, 1.33677015,\n",
       "        1.38760283]),\n",
       " array([1.18404935, 1.20696829, 1.07569915, ..., 0.99489271, 0.99088465,\n",
       "        1.05550575])]"
      ]
     },
     "execution_count": 8,
     "metadata": {},
     "output_type": "execute_result"
    }
   ],
   "source": [
    "test_x = pd.read_csv('./test.csv')[['X_48', 'X_22', 'X_18', 'X_43', 'X_17', 'X_51', 'X_42', 'X_49', 'X_40', 'X_05', 'X_52', 'X_06', 'X_45', 'X_27', 'X_24', 'X_25', 'X_56', 'X_09', 'X_19', 'X_20', 'X_46', 'X_04', 'X_23', 'X_47', 'X_16', 'X_15', 'X_41', 'X_28', 'X_39']]\n",
    "arr = LR.predict(test_x)\n",
    "preds.append(arr)\n",
    "preds"
   ]
  },
  {
   "cell_type": "markdown",
   "id": "b973e9b5",
   "metadata": {},
   "source": [
    "## Y3"
   ]
  },
  {
   "cell_type": "code",
   "execution_count": 9,
   "id": "5ea5305b",
   "metadata": {},
   "outputs": [],
   "source": [
    "selected_x = train_df[['X_48', 'X_18', 'X_17', 'X_43', 'X_22', 'X_19', 'X_49', 'X_51', 'X_05', 'X_13', 'X_42', 'X_24', 'X_25', 'X_52', 'X_06', 'X_40', 'X_46', 'X_45', 'X_56', 'X_04', 'X_23', 'X_47', 'X_32', 'X_03', 'X_27', 'X_33', 'X_01', 'X_20', 'X_21', 'X_12', 'X_10', 'X_39', 'X_28', 'X_16', 'X_41']] # selected input : X feature\n",
    "target_y = train_df['Y_03']\n",
    "LR = LinearRegression().fit(selected_x, target_y)"
   ]
  },
  {
   "cell_type": "code",
   "execution_count": 10,
   "id": "aa07bdb2",
   "metadata": {},
   "outputs": [
    {
     "data": {
      "text/plain": [
       "[array([1.43825721, 1.49550256, 1.39457171, ..., 1.33692933, 1.33677015,\n",
       "        1.38760283]),\n",
       " array([1.18404935, 1.20696829, 1.07569915, ..., 0.99489271, 0.99088465,\n",
       "        1.05550575]),\n",
       " array([1.14295867, 1.13984526, 1.02780117, ..., 1.00547766, 1.01756548,\n",
       "        1.05106684])]"
      ]
     },
     "execution_count": 10,
     "metadata": {},
     "output_type": "execute_result"
    }
   ],
   "source": [
    "test_x = pd.read_csv('./test.csv')[['X_48', 'X_18', 'X_17', 'X_43', 'X_22', 'X_19', 'X_49', 'X_51', 'X_05', 'X_13', 'X_42', 'X_24', 'X_25', 'X_52', 'X_06', 'X_40', 'X_46', 'X_45', 'X_56', 'X_04', 'X_23', 'X_47', 'X_32', 'X_03', 'X_27', 'X_33', 'X_01', 'X_20', 'X_21', 'X_12', 'X_10', 'X_39', 'X_28', 'X_16', 'X_41']]\n",
    "arr = LR.predict(test_x)\n",
    "preds.append(arr)\n",
    "preds"
   ]
  },
  {
   "cell_type": "markdown",
   "id": "7abd7272",
   "metadata": {},
   "source": [
    "## Y4"
   ]
  },
  {
   "cell_type": "code",
   "execution_count": 11,
   "id": "76f92138",
   "metadata": {},
   "outputs": [],
   "source": [
    "selected_x = train_df[['X_48', 'X_04', 'X_23', 'X_47', 'X_30', 'X_21', 'X_32', 'X_16', 'X_17', 'X_12', 'X_19', 'X_03', 'X_24', 'X_54', 'X_50', 'X_52', 'X_56', 'X_22', 'X_09', 'X_25', 'X_06', 'X_40', 'X_44', 'X_42', 'X_51', 'X_55', 'X_18', 'X_20', 'X_08', 'X_26', 'X_10', 'X_53', 'X_37', 'X_35', 'X_15']] # selected input : X feature\n",
    "target_y = train_df['Y_04']\n",
    "LR = LinearRegression().fit(selected_x, target_y)"
   ]
  },
  {
   "cell_type": "code",
   "execution_count": 12,
   "id": "b065eaea",
   "metadata": {},
   "outputs": [
    {
     "data": {
      "text/plain": [
       "[array([1.43825721, 1.49550256, 1.39457171, ..., 1.33692933, 1.33677015,\n",
       "        1.38760283]),\n",
       " array([1.18404935, 1.20696829, 1.07569915, ..., 0.99489271, 0.99088465,\n",
       "        1.05550575]),\n",
       " array([1.14295867, 1.13984526, 1.02780117, ..., 1.00547766, 1.01756548,\n",
       "        1.05106684]),\n",
       " array([12.91491699, 13.30749512, 14.66195679, ..., 13.98266602,\n",
       "        13.34503174, 13.30877686])]"
      ]
     },
     "execution_count": 12,
     "metadata": {},
     "output_type": "execute_result"
    }
   ],
   "source": [
    "test_x = pd.read_csv('./test.csv')[['X_48', 'X_04', 'X_23', 'X_47', 'X_30', 'X_21', 'X_32', 'X_16', 'X_17', 'X_12', 'X_19', 'X_03', 'X_24', 'X_54', 'X_50', 'X_52', 'X_56', 'X_22', 'X_09', 'X_25', 'X_06', 'X_40', 'X_44', 'X_42', 'X_51', 'X_55', 'X_18', 'X_20', 'X_08', 'X_26', 'X_10', 'X_53', 'X_37', 'X_35', 'X_15']]\n",
    "arr = LR.predict(test_x)\n",
    "preds.append(arr)\n",
    "preds"
   ]
  },
  {
   "cell_type": "markdown",
   "id": "1255eead",
   "metadata": {},
   "source": [
    "## Y5"
   ]
  },
  {
   "cell_type": "code",
   "execution_count": 13,
   "id": "dd429a1a",
   "metadata": {},
   "outputs": [],
   "source": [
    "selected_x = train_df[['X_48', 'X_56', 'X_32', 'X_12', 'X_15', 'X_18', 'X_17', 'X_04', 'X_23', 'X_47', 'X_33', 'X_29', 'X_09', 'X_40', 'X_54', 'X_50', 'X_44', 'X_49', 'X_51', 'X_55', 'X_03', 'X_30', 'X_19', 'X_28', 'X_53', 'X_13', 'X_35', 'X_01', 'X_06', 'X_52', 'X_37', 'X_31', 'X_45', 'X_26', 'X_10']] # selected input : X feature\n",
    "target_y = train_df['Y_05']\n",
    "LR = LinearRegression().fit(selected_x, target_y)"
   ]
  },
  {
   "cell_type": "code",
   "execution_count": 14,
   "id": "4b8fa0dc",
   "metadata": {},
   "outputs": [
    {
     "data": {
      "text/plain": [
       "[array([1.43825721, 1.49550256, 1.39457171, ..., 1.33692933, 1.33677015,\n",
       "        1.38760283]),\n",
       " array([1.18404935, 1.20696829, 1.07569915, ..., 0.99489271, 0.99088465,\n",
       "        1.05550575]),\n",
       " array([1.14295867, 1.13984526, 1.02780117, ..., 1.00547766, 1.01756548,\n",
       "        1.05106684]),\n",
       " array([12.91491699, 13.30749512, 14.66195679, ..., 13.98266602,\n",
       "        13.34503174, 13.30877686]),\n",
       " array([30.99674723, 30.93767465, 31.84795645, ..., 31.90803251,\n",
       "        31.48614506, 31.2803425 ])]"
      ]
     },
     "execution_count": 14,
     "metadata": {},
     "output_type": "execute_result"
    }
   ],
   "source": [
    "test_x = pd.read_csv('./test.csv')[['X_48', 'X_56', 'X_32', 'X_12', 'X_15', 'X_18', 'X_17', 'X_04', 'X_23', 'X_47', 'X_33', 'X_29', 'X_09', 'X_40', 'X_54', 'X_50', 'X_44', 'X_49', 'X_51', 'X_55', 'X_03', 'X_30', 'X_19', 'X_28', 'X_53', 'X_13', 'X_35', 'X_01', 'X_06', 'X_52', 'X_37', 'X_31', 'X_45', 'X_26', 'X_10']]\n",
    "arr = LR.predict(test_x)\n",
    "preds.append(arr)\n",
    "preds"
   ]
  },
  {
   "cell_type": "markdown",
   "id": "ca776981",
   "metadata": {},
   "source": [
    "## Y6"
   ]
  },
  {
   "cell_type": "code",
   "execution_count": 15,
   "id": "f7af76f3",
   "metadata": {},
   "outputs": [],
   "source": [
    "selected_x = train_df[['X_48', 'X_19', 'X_30', 'X_56', 'X_05', 'X_06', 'X_26', 'X_49', 'X_17', 'X_18', 'X_16', 'X_44', 'X_13', 'X_43', 'X_51', 'X_55', 'X_50', 'X_09', 'X_04', 'X_23', 'X_47', 'X_03', 'X_22']] # selected input : X feature\n",
    "target_y = train_df['Y_06']\n",
    "LR = LinearRegression().fit(selected_x, target_y)"
   ]
  },
  {
   "cell_type": "code",
   "execution_count": 16,
   "id": "6a36c156",
   "metadata": {},
   "outputs": [
    {
     "data": {
      "text/plain": [
       "[array([1.43825721, 1.49550256, 1.39457171, ..., 1.33692933, 1.33677015,\n",
       "        1.38760283]),\n",
       " array([1.18404935, 1.20696829, 1.07569915, ..., 0.99489271, 0.99088465,\n",
       "        1.05550575]),\n",
       " array([1.14295867, 1.13984526, 1.02780117, ..., 1.00547766, 1.01756548,\n",
       "        1.05106684]),\n",
       " array([12.91491699, 13.30749512, 14.66195679, ..., 13.98266602,\n",
       "        13.34503174, 13.30877686]),\n",
       " array([30.99674723, 30.93767465, 31.84795645, ..., 31.90803251,\n",
       "        31.48614506, 31.2803425 ]),\n",
       " array([16.24667417, 16.53302224, 16.24556479, ..., 17.04870175,\n",
       "        16.9939059 , 16.84667803])]"
      ]
     },
     "execution_count": 16,
     "metadata": {},
     "output_type": "execute_result"
    }
   ],
   "source": [
    "test_x = pd.read_csv('./test.csv')[['X_48', 'X_19', 'X_30', 'X_56', 'X_05', 'X_06', 'X_26', 'X_49', 'X_17', 'X_18', 'X_16', 'X_44', 'X_13', 'X_43', 'X_51', 'X_55', 'X_50', 'X_09', 'X_04', 'X_23', 'X_47', 'X_03', 'X_22']]\n",
    "arr = LR.predict(test_x)\n",
    "preds.append(arr)\n",
    "preds"
   ]
  },
  {
   "cell_type": "markdown",
   "id": "dd1050cd",
   "metadata": {},
   "source": [
    "## Y7"
   ]
  },
  {
   "cell_type": "code",
   "execution_count": 17,
   "id": "81720e68",
   "metadata": {},
   "outputs": [],
   "source": [
    "selected_x = train_df[['X_48', 'X_04', 'X_23', 'X_47', 'X_19', 'X_32', 'X_21', 'X_15', 'X_18', 'X_03', 'X_17', 'X_50', 'X_54', 'X_41', 'X_24', 'X_12', 'X_14', 'X_38', 'X_31', 'X_09', 'X_56', 'X_52', 'X_06', 'X_05', 'X_22', 'X_33', 'X_29', 'X_55']] # selected input : X feature\n",
    "target_y = train_df['Y_07']\n",
    "LR = LinearRegression().fit(selected_x, target_y)"
   ]
  },
  {
   "cell_type": "code",
   "execution_count": 18,
   "id": "5c1e3ef1",
   "metadata": {},
   "outputs": [
    {
     "data": {
      "text/plain": [
       "[array([1.43825721, 1.49550256, 1.39457171, ..., 1.33692933, 1.33677015,\n",
       "        1.38760283]),\n",
       " array([1.18404935, 1.20696829, 1.07569915, ..., 0.99489271, 0.99088465,\n",
       "        1.05550575]),\n",
       " array([1.14295867, 1.13984526, 1.02780117, ..., 1.00547766, 1.01756548,\n",
       "        1.05106684]),\n",
       " array([12.91491699, 13.30749512, 14.66195679, ..., 13.98266602,\n",
       "        13.34503174, 13.30877686]),\n",
       " array([30.99674723, 30.93767465, 31.84795645, ..., 31.90803251,\n",
       "        31.48614506, 31.2803425 ]),\n",
       " array([16.24667417, 16.53302224, 16.24556479, ..., 17.04870175,\n",
       "        16.9939059 , 16.84667803]),\n",
       " array([3.2002669 , 3.15272131, 3.03455064, ..., 3.1268497 , 3.20310534,\n",
       "        3.17225018])]"
      ]
     },
     "execution_count": 18,
     "metadata": {},
     "output_type": "execute_result"
    }
   ],
   "source": [
    "test_x = pd.read_csv('./test.csv')[['X_48', 'X_04', 'X_23', 'X_47', 'X_19', 'X_32', 'X_21', 'X_15', 'X_18', 'X_03', 'X_17', 'X_50', 'X_54', 'X_41', 'X_24', 'X_12', 'X_14', 'X_38', 'X_31', 'X_09', 'X_56', 'X_52', 'X_06', 'X_05', 'X_22', 'X_33', 'X_29', 'X_55']]\n",
    "arr = LR.predict(test_x)\n",
    "preds.append(arr)\n",
    "preds"
   ]
  },
  {
   "cell_type": "markdown",
   "id": "a0e9407c",
   "metadata": {},
   "source": [
    "## Y8"
   ]
  },
  {
   "cell_type": "code",
   "execution_count": 19,
   "id": "ff9ddafb",
   "metadata": {},
   "outputs": [],
   "source": [
    "selected_x = train_df[['X_48', 'X_20', 'X_32', 'X_30', 'X_03', 'X_42', 'X_22', 'X_52', 'X_40', 'X_17', 'X_18', 'X_15', 'X_10', 'X_51', 'X_55', 'X_04', 'X_23', 'X_47', 'X_09', 'X_27', 'X_56', 'X_41', 'X_14', 'X_54', 'X_53', 'X_35', 'X_44']] # selected input : X feature\n",
    "target_y = train_df['Y_08']\n",
    "LR = LinearRegression().fit(selected_x, target_y)"
   ]
  },
  {
   "cell_type": "code",
   "execution_count": 20,
   "id": "012398e2",
   "metadata": {},
   "outputs": [
    {
     "data": {
      "text/plain": [
       "[array([1.43825721, 1.49550256, 1.39457171, ..., 1.33692933, 1.33677015,\n",
       "        1.38760283]),\n",
       " array([1.18404935, 1.20696829, 1.07569915, ..., 0.99489271, 0.99088465,\n",
       "        1.05550575]),\n",
       " array([1.14295867, 1.13984526, 1.02780117, ..., 1.00547766, 1.01756548,\n",
       "        1.05106684]),\n",
       " array([12.91491699, 13.30749512, 14.66195679, ..., 13.98266602,\n",
       "        13.34503174, 13.30877686]),\n",
       " array([30.99674723, 30.93767465, 31.84795645, ..., 31.90803251,\n",
       "        31.48614506, 31.2803425 ]),\n",
       " array([16.24667417, 16.53302224, 16.24556479, ..., 17.04870175,\n",
       "        16.9939059 , 16.84667803]),\n",
       " array([3.2002669 , 3.15272131, 3.03455064, ..., 3.1268497 , 3.20310534,\n",
       "        3.17225018]),\n",
       " array([-26.16796276, -26.10731453, -26.06937105, ..., -26.51638648,\n",
       "        -26.52334178, -26.48255159])]"
      ]
     },
     "execution_count": 20,
     "metadata": {},
     "output_type": "execute_result"
    }
   ],
   "source": [
    "test_x = pd.read_csv('./test.csv')[['X_48', 'X_20', 'X_32', 'X_30', 'X_03', 'X_42', 'X_22', 'X_52', 'X_40', 'X_17', 'X_18', 'X_15', 'X_10', 'X_51', 'X_55', 'X_04', 'X_23', 'X_47', 'X_09', 'X_27', 'X_56', 'X_41', 'X_14', 'X_54', 'X_53', 'X_35', 'X_44']]\n",
    "arr = LR.predict(test_x)\n",
    "preds.append(arr)\n",
    "preds"
   ]
  },
  {
   "cell_type": "markdown",
   "id": "d36992d4",
   "metadata": {},
   "source": [
    "## Y9"
   ]
  },
  {
   "cell_type": "code",
   "execution_count": 21,
   "id": "9e4657eb",
   "metadata": {},
   "outputs": [],
   "source": [
    "selected_x = train_df[['X_48', 'X_20', 'X_30', 'X_42', 'X_03', 'X_32', 'X_22', 'X_52', 'X_40', 'X_17', 'X_18', 'X_15', 'X_04', 'X_23', 'X_47', 'X_51', 'X_55', 'X_09', 'X_12', 'X_41', 'X_10', 'X_14', 'X_56', 'X_54', 'X_53', 'X_35']] # selected input : X feature\n",
    "target_y = train_df['Y_09']\n",
    "LR = LinearRegression().fit(selected_x, target_y)"
   ]
  },
  {
   "cell_type": "code",
   "execution_count": 22,
   "id": "f41f6292",
   "metadata": {},
   "outputs": [
    {
     "data": {
      "text/plain": [
       "[array([1.43825721, 1.49550256, 1.39457171, ..., 1.33692933, 1.33677015,\n",
       "        1.38760283]),\n",
       " array([1.18404935, 1.20696829, 1.07569915, ..., 0.99489271, 0.99088465,\n",
       "        1.05550575]),\n",
       " array([1.14295867, 1.13984526, 1.02780117, ..., 1.00547766, 1.01756548,\n",
       "        1.05106684]),\n",
       " array([12.91491699, 13.30749512, 14.66195679, ..., 13.98266602,\n",
       "        13.34503174, 13.30877686]),\n",
       " array([30.99674723, 30.93767465, 31.84795645, ..., 31.90803251,\n",
       "        31.48614506, 31.2803425 ]),\n",
       " array([16.24667417, 16.53302224, 16.24556479, ..., 17.04870175,\n",
       "        16.9939059 , 16.84667803]),\n",
       " array([3.2002669 , 3.15272131, 3.03455064, ..., 3.1268497 , 3.20310534,\n",
       "        3.17225018]),\n",
       " array([-26.16796276, -26.10731453, -26.06937105, ..., -26.51638648,\n",
       "        -26.52334178, -26.48255159]),\n",
       " array([-26.16547444, -26.11496667, -26.09683401, ..., -26.52674927,\n",
       "        -26.51939356, -26.48810239])]"
      ]
     },
     "execution_count": 22,
     "metadata": {},
     "output_type": "execute_result"
    }
   ],
   "source": [
    "test_x = pd.read_csv('./test.csv')[['X_48', 'X_20', 'X_30', 'X_42', 'X_03', 'X_32', 'X_22', 'X_52', 'X_40', 'X_17', 'X_18', 'X_15', 'X_04', 'X_23', 'X_47', 'X_51', 'X_55', 'X_09', 'X_12', 'X_41', 'X_10', 'X_14', 'X_56', 'X_54', 'X_53', 'X_35']]\n",
    "arr = LR.predict(test_x)\n",
    "preds.append(arr)\n",
    "preds"
   ]
  },
  {
   "cell_type": "markdown",
   "id": "a57cb5c4",
   "metadata": {},
   "source": [
    "## Y10"
   ]
  },
  {
   "cell_type": "code",
   "execution_count": 23,
   "id": "71620df2",
   "metadata": {},
   "outputs": [],
   "source": [
    "selected_x = train_df[['X_48', 'X_04', 'X_23', 'X_47', 'X_18', 'X_15', 'X_22', 'X_42', 'X_30', 'X_56', 'X_49', 'X_03', 'X_09', 'X_51', 'X_16', 'X_27', 'X_24', 'X_41', 'X_32', 'X_45', 'X_17', 'X_21', 'X_01', 'X_40', 'X_55', 'X_52', 'X_54', 'X_53', 'X_29', 'X_10', 'X_08', 'X_44', 'X_31', 'X_50', 'X_07']] # selected input : X feature\n",
    "target_y = train_df['Y_10']\n",
    "LR = LinearRegression().fit(selected_x, target_y)"
   ]
  },
  {
   "cell_type": "code",
   "execution_count": 24,
   "id": "d6d43340",
   "metadata": {},
   "outputs": [
    {
     "data": {
      "text/plain": [
       "[array([1.43825721, 1.49550256, 1.39457171, ..., 1.33692933, 1.33677015,\n",
       "        1.38760283]),\n",
       " array([1.18404935, 1.20696829, 1.07569915, ..., 0.99489271, 0.99088465,\n",
       "        1.05550575]),\n",
       " array([1.14295867, 1.13984526, 1.02780117, ..., 1.00547766, 1.01756548,\n",
       "        1.05106684]),\n",
       " array([12.91491699, 13.30749512, 14.66195679, ..., 13.98266602,\n",
       "        13.34503174, 13.30877686]),\n",
       " array([30.99674723, 30.93767465, 31.84795645, ..., 31.90803251,\n",
       "        31.48614506, 31.2803425 ]),\n",
       " array([16.24667417, 16.53302224, 16.24556479, ..., 17.04870175,\n",
       "        16.9939059 , 16.84667803]),\n",
       " array([3.2002669 , 3.15272131, 3.03455064, ..., 3.1268497 , 3.20310534,\n",
       "        3.17225018]),\n",
       " array([-26.16796276, -26.10731453, -26.06937105, ..., -26.51638648,\n",
       "        -26.52334178, -26.48255159]),\n",
       " array([-26.16547444, -26.11496667, -26.09683401, ..., -26.52674927,\n",
       "        -26.51939356, -26.48810239]),\n",
       " array([-22.15837973, -22.23240709, -22.29680389, ..., -22.46786237,\n",
       "        -22.55224234, -22.57647085])]"
      ]
     },
     "execution_count": 24,
     "metadata": {},
     "output_type": "execute_result"
    }
   ],
   "source": [
    "test_x = pd.read_csv('./test.csv')[['X_48', 'X_04', 'X_23', 'X_47', 'X_18', 'X_15', 'X_22', 'X_42', 'X_30', 'X_56', 'X_49', 'X_03', 'X_09', 'X_51', 'X_16', 'X_27', 'X_24', 'X_41', 'X_32', 'X_45', 'X_17', 'X_21', 'X_01', 'X_40', 'X_55', 'X_52', 'X_54', 'X_53', 'X_29', 'X_10', 'X_08', 'X_44', 'X_31', 'X_50', 'X_07']]\n",
    "arr = LR.predict(test_x)\n",
    "preds.append(arr)\n",
    "preds"
   ]
  },
  {
   "cell_type": "markdown",
   "id": "8c356126",
   "metadata": {},
   "source": [
    "## Y11"
   ]
  },
  {
   "cell_type": "code",
   "execution_count": 25,
   "id": "d8c854a1",
   "metadata": {},
   "outputs": [],
   "source": [
    "selected_x = train_df[['X_48', 'X_17', 'X_18', 'X_15', 'X_30', 'X_51', 'X_42', 'X_03', 'X_01', 'X_56', 'X_05', 'X_54', 'X_31', 'X_21', 'X_52', 'X_55', 'X_10', 'X_50', 'X_04', 'X_23', 'X_47', 'X_32', 'X_09', 'X_33', 'X_35']] # selected input : X feature\n",
    "target_y = train_df['Y_11']\n",
    "LR = LinearRegression().fit(selected_x, target_y)"
   ]
  },
  {
   "cell_type": "code",
   "execution_count": 26,
   "id": "f328d274",
   "metadata": {},
   "outputs": [
    {
     "data": {
      "text/plain": [
       "[array([1.43825721, 1.49550256, 1.39457171, ..., 1.33692933, 1.33677015,\n",
       "        1.38760283]),\n",
       " array([1.18404935, 1.20696829, 1.07569915, ..., 0.99489271, 0.99088465,\n",
       "        1.05550575]),\n",
       " array([1.14295867, 1.13984526, 1.02780117, ..., 1.00547766, 1.01756548,\n",
       "        1.05106684]),\n",
       " array([12.91491699, 13.30749512, 14.66195679, ..., 13.98266602,\n",
       "        13.34503174, 13.30877686]),\n",
       " array([30.99674723, 30.93767465, 31.84795645, ..., 31.90803251,\n",
       "        31.48614506, 31.2803425 ]),\n",
       " array([16.24667417, 16.53302224, 16.24556479, ..., 17.04870175,\n",
       "        16.9939059 , 16.84667803]),\n",
       " array([3.2002669 , 3.15272131, 3.03455064, ..., 3.1268497 , 3.20310534,\n",
       "        3.17225018]),\n",
       " array([-26.16796276, -26.10731453, -26.06937105, ..., -26.51638648,\n",
       "        -26.52334178, -26.48255159]),\n",
       " array([-26.16547444, -26.11496667, -26.09683401, ..., -26.52674927,\n",
       "        -26.51939356, -26.48810239]),\n",
       " array([-22.15837973, -22.23240709, -22.29680389, ..., -22.46786237,\n",
       "        -22.55224234, -22.57647085]),\n",
       " array([24.41949955, 24.39904183, 24.47841189, ..., 24.32934851,\n",
       "        24.28414189, 24.24430599])]"
      ]
     },
     "execution_count": 26,
     "metadata": {},
     "output_type": "execute_result"
    }
   ],
   "source": [
    "test_x = pd.read_csv('./test.csv')[['X_48', 'X_17', 'X_18', 'X_15', 'X_30', 'X_51', 'X_42', 'X_03', 'X_01', 'X_56', 'X_05', 'X_54', 'X_31', 'X_21', 'X_52', 'X_55', 'X_10', 'X_50', 'X_04', 'X_23', 'X_47', 'X_32', 'X_09', 'X_33', 'X_35']]\n",
    "arr = LR.predict(test_x)\n",
    "preds.append(arr)\n",
    "preds"
   ]
  },
  {
   "cell_type": "markdown",
   "id": "83fb6ddb",
   "metadata": {},
   "source": [
    "## Y12"
   ]
  },
  {
   "cell_type": "code",
   "execution_count": 27,
   "id": "d8950878",
   "metadata": {},
   "outputs": [],
   "source": [
    "selected_x = train_df[['X_48', 'X_20', 'X_30', 'X_42', 'X_03', 'X_32', 'X_22', 'X_56', 'X_40', 'X_18', 'X_15', 'X_51', 'X_04', 'X_23', 'X_47', 'X_09', 'X_13', 'X_10', 'X_41', 'X_55', 'X_52', 'X_12', 'X_54', 'X_53', 'X_35']] # selected input : X feature\n",
    "target_y = train_df['Y_12']\n",
    "LR = LinearRegression().fit(selected_x, target_y)"
   ]
  },
  {
   "cell_type": "code",
   "execution_count": 28,
   "id": "c3e30864",
   "metadata": {},
   "outputs": [
    {
     "data": {
      "text/plain": [
       "[array([1.43825721, 1.49550256, 1.39457171, ..., 1.33692933, 1.33677015,\n",
       "        1.38760283]),\n",
       " array([1.18404935, 1.20696829, 1.07569915, ..., 0.99489271, 0.99088465,\n",
       "        1.05550575]),\n",
       " array([1.14295867, 1.13984526, 1.02780117, ..., 1.00547766, 1.01756548,\n",
       "        1.05106684]),\n",
       " array([12.91491699, 13.30749512, 14.66195679, ..., 13.98266602,\n",
       "        13.34503174, 13.30877686]),\n",
       " array([30.99674723, 30.93767465, 31.84795645, ..., 31.90803251,\n",
       "        31.48614506, 31.2803425 ]),\n",
       " array([16.24667417, 16.53302224, 16.24556479, ..., 17.04870175,\n",
       "        16.9939059 , 16.84667803]),\n",
       " array([3.2002669 , 3.15272131, 3.03455064, ..., 3.1268497 , 3.20310534,\n",
       "        3.17225018]),\n",
       " array([-26.16796276, -26.10731453, -26.06937105, ..., -26.51638648,\n",
       "        -26.52334178, -26.48255159]),\n",
       " array([-26.16547444, -26.11496667, -26.09683401, ..., -26.52674927,\n",
       "        -26.51939356, -26.48810239]),\n",
       " array([-22.15837973, -22.23240709, -22.29680389, ..., -22.46786237,\n",
       "        -22.55224234, -22.57647085]),\n",
       " array([24.41949955, 24.39904183, 24.47841189, ..., 24.32934851,\n",
       "        24.28414189, 24.24430599]),\n",
       " array([-26.09603302, -26.04462914, -26.02394281, ..., -26.46305947,\n",
       "        -26.45071714, -26.42924053])]"
      ]
     },
     "execution_count": 28,
     "metadata": {},
     "output_type": "execute_result"
    }
   ],
   "source": [
    "test_x = pd.read_csv('./test.csv')[['X_48', 'X_20', 'X_30', 'X_42', 'X_03', 'X_32', 'X_22', 'X_56', 'X_40', 'X_18', 'X_15', 'X_51', 'X_04', 'X_23', 'X_47', 'X_09', 'X_13', 'X_10', 'X_41', 'X_55', 'X_52', 'X_12', 'X_54', 'X_53', 'X_35']]\n",
    "arr = LR.predict(test_x)\n",
    "preds.append(arr)\n",
    "preds"
   ]
  },
  {
   "cell_type": "markdown",
   "id": "81c1a1c2",
   "metadata": {},
   "source": [
    "## Y13"
   ]
  },
  {
   "cell_type": "code",
   "execution_count": 29,
   "id": "238b71a5",
   "metadata": {},
   "outputs": [],
   "source": [
    "selected_x = train_df[['X_48', 'X_20', 'X_30', 'X_42', 'X_03', 'X_32', 'X_22', 'X_52', 'X_40', 'X_17', 'X_18', 'X_15', 'X_51', 'X_04', 'X_23', 'X_47', 'X_09', 'X_55', 'X_10', 'X_56', 'X_41', 'X_14', 'X_12', 'X_54', 'X_53', 'X_35']] # selected input : X feature\n",
    "target_y = train_df['Y_13']\n",
    "LR = LinearRegression().fit(selected_x, target_y)"
   ]
  },
  {
   "cell_type": "code",
   "execution_count": 30,
   "id": "d0ed0e6f",
   "metadata": {},
   "outputs": [
    {
     "data": {
      "text/plain": [
       "[array([1.43825721, 1.49550256, 1.39457171, ..., 1.33692933, 1.33677015,\n",
       "        1.38760283]),\n",
       " array([1.18404935, 1.20696829, 1.07569915, ..., 0.99489271, 0.99088465,\n",
       "        1.05550575]),\n",
       " array([1.14295867, 1.13984526, 1.02780117, ..., 1.00547766, 1.01756548,\n",
       "        1.05106684]),\n",
       " array([12.91491699, 13.30749512, 14.66195679, ..., 13.98266602,\n",
       "        13.34503174, 13.30877686]),\n",
       " array([30.99674723, 30.93767465, 31.84795645, ..., 31.90803251,\n",
       "        31.48614506, 31.2803425 ]),\n",
       " array([16.24667417, 16.53302224, 16.24556479, ..., 17.04870175,\n",
       "        16.9939059 , 16.84667803]),\n",
       " array([3.2002669 , 3.15272131, 3.03455064, ..., 3.1268497 , 3.20310534,\n",
       "        3.17225018]),\n",
       " array([-26.16796276, -26.10731453, -26.06937105, ..., -26.51638648,\n",
       "        -26.52334178, -26.48255159]),\n",
       " array([-26.16547444, -26.11496667, -26.09683401, ..., -26.52674927,\n",
       "        -26.51939356, -26.48810239]),\n",
       " array([-22.15837973, -22.23240709, -22.29680389, ..., -22.46786237,\n",
       "        -22.55224234, -22.57647085]),\n",
       " array([24.41949955, 24.39904183, 24.47841189, ..., 24.32934851,\n",
       "        24.28414189, 24.24430599]),\n",
       " array([-26.09603302, -26.04462914, -26.02394281, ..., -26.46305947,\n",
       "        -26.45071714, -26.42924053]),\n",
       " array([-26.08990819, -26.04172704, -26.01601694, ..., -26.45614871,\n",
       "        -26.45093638, -26.42083289])]"
      ]
     },
     "execution_count": 30,
     "metadata": {},
     "output_type": "execute_result"
    }
   ],
   "source": [
    "test_x = pd.read_csv('./test.csv')[['X_48', 'X_20', 'X_30', 'X_42', 'X_03', 'X_32', 'X_22', 'X_52', 'X_40', 'X_17', 'X_18', 'X_15', 'X_51', 'X_04', 'X_23', 'X_47', 'X_09', 'X_55', 'X_10', 'X_56', 'X_41', 'X_14', 'X_12', 'X_54', 'X_53', 'X_35']]\n",
    "arr = LR.predict(test_x)\n",
    "preds.append(arr)\n",
    "preds"
   ]
  },
  {
   "cell_type": "markdown",
   "id": "a2185074",
   "metadata": {},
   "source": [
    "## Y14"
   ]
  },
  {
   "cell_type": "code",
   "execution_count": 31,
   "id": "3fb50631",
   "metadata": {},
   "outputs": [],
   "source": [
    "selected_x = train_df[['X_48', 'X_20', 'X_32', 'X_30', 'X_03', 'X_42', 'X_22', 'X_52', 'X_40', 'X_18', 'X_15', 'X_04', 'X_23', 'X_47', 'X_51', 'X_55', 'X_09', 'X_27', 'X_10', 'X_56', 'X_54', 'X_41', 'X_13', 'X_53', 'X_12', 'X_35']] # selected input : X feature\n",
    "target_y = train_df['Y_14']\n",
    "LR = LinearRegression().fit(selected_x, target_y)"
   ]
  },
  {
   "cell_type": "code",
   "execution_count": 32,
   "id": "d0e1f847",
   "metadata": {},
   "outputs": [
    {
     "data": {
      "text/plain": [
       "[array([1.43825721, 1.49550256, 1.39457171, ..., 1.33692933, 1.33677015,\n",
       "        1.38760283]),\n",
       " array([1.18404935, 1.20696829, 1.07569915, ..., 0.99489271, 0.99088465,\n",
       "        1.05550575]),\n",
       " array([1.14295867, 1.13984526, 1.02780117, ..., 1.00547766, 1.01756548,\n",
       "        1.05106684]),\n",
       " array([12.91491699, 13.30749512, 14.66195679, ..., 13.98266602,\n",
       "        13.34503174, 13.30877686]),\n",
       " array([30.99674723, 30.93767465, 31.84795645, ..., 31.90803251,\n",
       "        31.48614506, 31.2803425 ]),\n",
       " array([16.24667417, 16.53302224, 16.24556479, ..., 17.04870175,\n",
       "        16.9939059 , 16.84667803]),\n",
       " array([3.2002669 , 3.15272131, 3.03455064, ..., 3.1268497 , 3.20310534,\n",
       "        3.17225018]),\n",
       " array([-26.16796276, -26.10731453, -26.06937105, ..., -26.51638648,\n",
       "        -26.52334178, -26.48255159]),\n",
       " array([-26.16547444, -26.11496667, -26.09683401, ..., -26.52674927,\n",
       "        -26.51939356, -26.48810239]),\n",
       " array([-22.15837973, -22.23240709, -22.29680389, ..., -22.46786237,\n",
       "        -22.55224234, -22.57647085]),\n",
       " array([24.41949955, 24.39904183, 24.47841189, ..., 24.32934851,\n",
       "        24.28414189, 24.24430599]),\n",
       " array([-26.09603302, -26.04462914, -26.02394281, ..., -26.46305947,\n",
       "        -26.45071714, -26.42924053]),\n",
       " array([-26.08990819, -26.04172704, -26.01601694, ..., -26.45614871,\n",
       "        -26.45093638, -26.42083289]),\n",
       " array([-26.11799106, -26.06009534, -26.03222161, ..., -26.46670941,\n",
       "        -26.45979473, -26.4258323 ])]"
      ]
     },
     "execution_count": 32,
     "metadata": {},
     "output_type": "execute_result"
    }
   ],
   "source": [
    "test_x = pd.read_csv('./test.csv')[['X_48', 'X_20', 'X_32', 'X_30', 'X_03', 'X_42', 'X_22', 'X_52', 'X_40', 'X_18', 'X_15', 'X_04', 'X_23', 'X_47', 'X_51', 'X_55', 'X_09', 'X_27', 'X_10', 'X_56', 'X_54', 'X_41', 'X_13', 'X_53', 'X_12', 'X_35']]\n",
    "arr = LR.predict(test_x)\n",
    "preds.append(arr)\n",
    "preds"
   ]
  },
  {
   "cell_type": "markdown",
   "id": "b283fecd",
   "metadata": {},
   "source": [
    "# Evaluation"
   ]
  },
  {
   "cell_type": "code",
   "execution_count": null,
   "id": "7d425ee3",
   "metadata": {},
   "outputs": [],
   "source": []
  },
  {
   "cell_type": "markdown",
   "id": "74de898a",
   "metadata": {},
   "source": [
    "# Submit"
   ]
  },
  {
   "cell_type": "code",
   "execution_count": null,
   "id": "0355c979",
   "metadata": {},
   "outputs": [],
   "source": [
    "submit = pd.read_csv('./sample_submission.csv')"
   ]
  },
  {
   "cell_type": "code",
   "execution_count": null,
   "id": "cbc0ba65",
   "metadata": {},
   "outputs": [],
   "source": [
    "for idx, col in enumerate(submit.columns):\n",
    "    if col=='ID':\n",
    "        continue\n",
    "    submit[col] = preds[:][idx-1]\n",
    "print('Done.')"
   ]
  },
  {
   "cell_type": "code",
   "execution_count": null,
   "id": "2f0ce50c",
   "metadata": {},
   "outputs": [],
   "source": [
    "submit.to_csv('./submit_LR_selected.csv', index=False)"
   ]
  }
 ],
 "metadata": {
  "kernelspec": {
   "display_name": "Python 3 (ipykernel)",
   "language": "python",
   "name": "python3"
  },
  "language_info": {
   "codemirror_mode": {
    "name": "ipython",
    "version": 3
   },
   "file_extension": ".py",
   "mimetype": "text/x-python",
   "name": "python",
   "nbconvert_exporter": "python",
   "pygments_lexer": "ipython3",
   "version": "3.9.12"
  }
 },
 "nbformat": 4,
 "nbformat_minor": 5
}
