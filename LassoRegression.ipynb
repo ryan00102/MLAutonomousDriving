{
 "cells": [
  {
   "cell_type": "markdown",
   "id": "afe8307c",
   "metadata": {},
   "source": [
    "## 코드"
   ]
  },
  {
   "cell_type": "markdown",
   "id": "62f88633",
   "metadata": {},
   "source": [
    "# Import"
   ]
  },
  {
   "cell_type": "code",
   "execution_count": 14,
   "id": "20c851fa",
   "metadata": {},
   "outputs": [],
   "source": [
    "import pandas as pd\n",
    "import random\n",
    "import os\n",
    "import numpy as np\n",
    "import matplotlib.pyplot as plt\n",
    "\n",
    "from sklearn.model_selection import cross_val_score\n",
    "from sklearn.linear_model import Lasso\n",
    "from sklearn.model_selection import train_test_split\n",
    "from sklearn.metrics import mean_squared_error, r2_score\n",
    "\n",
    "def seed_everything(seed):\n",
    "    random.seed(seed)\n",
    "    os.environ['PYTHONHASHSEED'] = str(seed)\n",
    "    np.random.seed(seed)\n",
    "seed_everything(42) # Seed 고정"
   ]
  },
  {
   "cell_type": "markdown",
   "id": "d07c95e2",
   "metadata": {},
   "source": [
    "# Data Load"
   ]
  },
  {
   "cell_type": "code",
   "execution_count": 10,
   "id": "17706131",
   "metadata": {},
   "outputs": [],
   "source": [
    "train_df = pd.read_csv('train.csv')\n",
    "\n",
    "train_x = train_df.filter(regex='X') # Input : X Featrue\n",
    "train_y = train_df.filter(regex='Y') # Output : Y Feature"
   ]
  },
  {
   "cell_type": "markdown",
   "id": "dd1f61ce",
   "metadata": {},
   "source": [
    "# Regression & Inference"
   ]
  },
  {
   "cell_type": "code",
   "execution_count": 11,
   "id": "1ae56a81",
   "metadata": {},
   "outputs": [
    {
     "data": {
      "text/plain": [
       "Lasso(alpha=0.1)"
      ]
     },
     "execution_count": 11,
     "metadata": {},
     "output_type": "execute_result"
    }
   ],
   "source": [
    "LR = Lasso(alpha = 0.1)\n",
    "LR.fit(train_x, train_y)"
   ]
  },
  {
   "cell_type": "code",
   "execution_count": 12,
   "id": "74a5655b",
   "metadata": {},
   "outputs": [
    {
     "data": {
      "text/plain": [
       "array([[  1.35536118,   1.0688313 ,   1.01330494, ..., -26.15388049,\n",
       "        -26.1488201 , -26.1638172 ],\n",
       "       [  1.35451017,   1.06002917,   1.01259143, ..., -26.23667233,\n",
       "        -26.23318878, -26.24544109],\n",
       "       [  1.34393652,   1.05565546,   1.01116418, ..., -26.26220175,\n",
       "        -26.25918617, -26.27459888],\n",
       "       ...,\n",
       "       [  1.43240923,   1.11652035,   1.09656683, ..., -26.26091248,\n",
       "        -26.25694684, -26.27178366],\n",
       "       [  1.42848328,   1.11478641,   1.09557787, ..., -26.27981383,\n",
       "        -26.27654266, -26.29080643],\n",
       "       [  1.42908491,   1.12006571,   1.09438557, ..., -26.26066103,\n",
       "        -26.25774668, -26.26976724]])"
      ]
     },
     "execution_count": 12,
     "metadata": {},
     "output_type": "execute_result"
    }
   ],
   "source": [
    "test_x = pd.read_csv('./test.csv').drop(columns=['ID'])\n",
    "preds = LR.predict(test_x)\n",
    "preds"
   ]
  },
  {
   "cell_type": "markdown",
   "id": "b283fecd",
   "metadata": {},
   "source": [
    "# Evaluation"
   ]
  },
  {
   "cell_type": "code",
   "execution_count": 17,
   "id": "7d425ee3",
   "metadata": {},
   "outputs": [
    {
     "name": "stdout",
     "output_type": "stream",
     "text": [
      "[-0.0464871  -0.01068483 -0.01472037]\n",
      "Test MSE: $1\n",
      "R2 Score: 0.0084\n",
      "\n"
     ]
    }
   ],
   "source": [
    "X_train, X_test, y_train, y_test = train_test_split(train_x, train_y, train_size=0.8, test_size=0.2, random_state=42)\n",
    "\n",
    "y_pred = LR.predict(X_test)\n",
    "mse = mean_squared_error(y_test, y_pred)\n",
    "\n",
    "r2 = r2_score(y_test,y_pred)\n",
    "lasso = Lasso()\n",
    "print(cross_val_score(lasso, train_x, train_y, cv=3))\n",
    "print(f'Test MSE: ${mse:,.0f}')\n",
    "print(f'R2 Score: {r2:,.4f}\\n')"
   ]
  },
  {
   "cell_type": "markdown",
   "id": "74de898a",
   "metadata": {},
   "source": [
    "# Submit"
   ]
  },
  {
   "cell_type": "code",
   "execution_count": 6,
   "id": "0355c979",
   "metadata": {},
   "outputs": [],
   "source": [
    "submit = pd.read_csv('./sample_submission.csv')"
   ]
  },
  {
   "cell_type": "code",
   "execution_count": 7,
   "id": "cbc0ba65",
   "metadata": {},
   "outputs": [
    {
     "name": "stdout",
     "output_type": "stream",
     "text": [
      "Done.\n"
     ]
    }
   ],
   "source": [
    "for idx, col in enumerate(submit.columns):\n",
    "    if col=='ID':\n",
    "        continue\n",
    "    submit[col] = preds[:,idx-1]\n",
    "print('Done.')"
   ]
  },
  {
   "cell_type": "code",
   "execution_count": 8,
   "id": "2f0ce50c",
   "metadata": {},
   "outputs": [],
   "source": [
    "submit.to_csv('./submit_Lasso.csv', index=False)"
   ]
  }
 ],
 "metadata": {
  "kernelspec": {
   "display_name": "Python 3 (ipykernel)",
   "language": "python",
   "name": "python3"
  },
  "language_info": {
   "codemirror_mode": {
    "name": "ipython",
    "version": 3
   },
   "file_extension": ".py",
   "mimetype": "text/x-python",
   "name": "python",
   "nbconvert_exporter": "python",
   "pygments_lexer": "ipython3",
   "version": "3.9.12"
  }
 },
 "nbformat": 4,
 "nbformat_minor": 5
}
