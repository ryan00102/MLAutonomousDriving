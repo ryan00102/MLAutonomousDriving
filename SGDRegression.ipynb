{
 "cells": [
  {
   "cell_type": "markdown",
   "id": "afe8307c",
   "metadata": {},
   "source": [
    "## 코드"
   ]
  },
  {
   "cell_type": "markdown",
   "id": "62f88633",
   "metadata": {},
   "source": [
    "# Import"
   ]
  },
  {
   "cell_type": "code",
   "execution_count": 33,
   "id": "20c851fa",
   "metadata": {},
   "outputs": [],
   "source": [
    "import numpy as np\n",
    "import pandas as pd\n",
    "import random\n",
    "import os\n",
    "import matplotlib.pyplot as plt\n",
    "\n",
    "from sklearn.linear_model import SGDRegressor\n",
    "from sklearn.pipeline import make_pipeline\n",
    "from sklearn.preprocessing import StandardScaler\n",
    "from sklearn.model_selection import train_test_split\n",
    "from sklearn.metrics import mean_squared_error, r2_score\n",
    "\n",
    "def seed_everything(seed):\n",
    "    random.seed(seed)\n",
    "    os.environ['PYTHONHASHSEED'] = str(seed)\n",
    "    np.random.seed(seed)\n",
    "seed_everything(42) # Seed 고정"
   ]
  },
  {
   "cell_type": "markdown",
   "id": "d07c95e2",
   "metadata": {},
   "source": [
    "# Data Load"
   ]
  },
  {
   "cell_type": "code",
   "execution_count": 34,
   "id": "17706131",
   "metadata": {},
   "outputs": [],
   "source": [
    "train_df = pd.read_csv('train.csv')\n",
    "\n",
    "train_x = train_df.filter(regex='X') # Input : X Featrue\n",
    "train_y = train_df.filter(regex='Y') # Output : Y Feature"
   ]
  },
  {
   "cell_type": "markdown",
   "id": "dd1f61ce",
   "metadata": {},
   "source": [
    "# Regression & Inference"
   ]
  },
  {
   "cell_type": "code",
   "execution_count": 35,
   "id": "1ae56a81",
   "metadata": {},
   "outputs": [],
   "source": [
    "preds = []\n",
    "test_x = pd.read_csv('./test.csv').drop(columns=['ID'])\n",
    "for i in range(1,15):\n",
    "    if i<10:\n",
    "        train_y = train_df.filter(regex='Y_0'+str(i))\n",
    "        SR = make_pipeline(StandardScaler(),SGDRegressor(max_iter=1000, tol=1e-3))\n",
    "        SR.fit(train_x, train_y.values.ravel())\n",
    "        arr = SR.predict(test_x)\n",
    "        preds.append(arr)\n",
    "    else :\n",
    "        train_y = train_df.filter(regex='Y_'+str(i))\n",
    "        SR = make_pipeline(StandardScaler(),SGDRegressor(max_iter=1000, tol=1e-3))\n",
    "        SR.fit(train_x, train_y.values.ravel())\n",
    "        arr = SR.predict(test_x)\n",
    "        preds.append(arr)\n",
    "    "
   ]
  },
  {
   "cell_type": "code",
   "execution_count": 36,
   "id": "74a5655b",
   "metadata": {},
   "outputs": [
    {
     "data": {
      "text/plain": [
       "[array([1.44345741, 1.57457528, 1.32480386, ..., 1.24771913, 1.27172852,\n",
       "        1.38218959]),\n",
       " array([1.2576785 , 1.1629118 , 1.13842339, ..., 0.96031803, 0.99527808,\n",
       "        0.99892523]),\n",
       " array([1.05595553, 1.18702934, 0.947257  , ..., 0.95619116, 1.01987343,\n",
       "        1.03802634]),\n",
       " array([12.80204271, 13.54413303, 14.50307678, ..., 14.1727126 ,\n",
       "        13.37551225, 13.54925948]),\n",
       " array([30.86025811, 31.00757802, 31.87987967, ..., 32.30045824,\n",
       "        31.67258646, 31.63702079]),\n",
       " array([16.13998403, 16.551481  , 16.05579274, ..., 17.14385128,\n",
       "        17.15660718, 16.89974107]),\n",
       " array([3.17388731, 3.20024581, 2.95225441, ..., 3.11022713, 3.13433289,\n",
       "        3.12857869]),\n",
       " array([-26.11228254, -25.98280612, -26.08991736, ..., -26.57514968,\n",
       "        -26.55235671, -26.52832296]),\n",
       " array([-26.12237262, -26.19340473, -25.93681306, ..., -26.48439353,\n",
       "        -26.49306265, -26.41619555]),\n",
       " array([-22.11699697, -22.19914951, -22.45836762, ..., -22.56077207,\n",
       "        -22.59579568, -22.59533826]),\n",
       " array([24.53258816, 24.37187173, 24.62589319, ..., 24.3521969 ,\n",
       "        24.34284546, 24.32113113]),\n",
       " array([-26.12946093, -26.01529044, -25.94960288, ..., -26.34998011,\n",
       "        -26.38922321, -26.34854204]),\n",
       " array([-26.14951963, -26.15269737, -25.98940895, ..., -26.31374901,\n",
       "        -26.31818262, -26.34729777]),\n",
       " array([-26.22284053, -25.99821755, -26.20452059, ..., -26.49082995,\n",
       "        -26.53139951, -26.45143921])]"
      ]
     },
     "execution_count": 36,
     "metadata": {},
     "output_type": "execute_result"
    }
   ],
   "source": [
    "preds"
   ]
  },
  {
   "cell_type": "markdown",
   "id": "b283fecd",
   "metadata": {},
   "source": [
    "# Evaluation"
   ]
  },
  {
   "cell_type": "code",
   "execution_count": 37,
   "id": "7d425ee3",
   "metadata": {},
   "outputs": [
    {
     "name": "stdout",
     "output_type": "stream",
     "text": [
      "Test MSE: $0\n",
      "R2 Score: 0.0370\n",
      "\n"
     ]
    }
   ],
   "source": [
    "X_train, X_test, y_train, y_test = train_test_split(train_x, train_y, train_size=0.8, test_size=0.2, random_state=42)\n",
    "\n",
    "y_pred = SR.predict(X_test)\n",
    "mse = mean_squared_error(y_test, y_pred)\n",
    "\n",
    "r2 = r2_score(y_test,y_pred)\n",
    "print(f'Test MSE: ${mse:,.0f}')\n",
    "print(f'R2 Score: {r2:,.4f}\\n')"
   ]
  },
  {
   "cell_type": "markdown",
   "id": "74de898a",
   "metadata": {},
   "source": [
    "# Submit"
   ]
  },
  {
   "cell_type": "code",
   "execution_count": 38,
   "id": "0355c979",
   "metadata": {},
   "outputs": [],
   "source": [
    "submit = pd.read_csv('./sample_submission.csv')"
   ]
  },
  {
   "cell_type": "code",
   "execution_count": 39,
   "id": "cbc0ba65",
   "metadata": {},
   "outputs": [
    {
     "name": "stdout",
     "output_type": "stream",
     "text": [
      "Done.\n"
     ]
    }
   ],
   "source": [
    "for idx, col in enumerate(submit.columns):\n",
    "    if col=='ID':\n",
    "        continue\n",
    "    submit[col] = preds[:][idx-1]\n",
    "print('Done.')"
   ]
  },
  {
   "cell_type": "code",
   "execution_count": 40,
   "id": "2f0ce50c",
   "metadata": {},
   "outputs": [],
   "source": [
    "submit.to_csv('./submit_SGD.csv', index=False)"
   ]
  }
 ],
 "metadata": {
  "kernelspec": {
   "display_name": "Python 3 (ipykernel)",
   "language": "python",
   "name": "python3"
  },
  "language_info": {
   "codemirror_mode": {
    "name": "ipython",
    "version": 3
   },
   "file_extension": ".py",
   "mimetype": "text/x-python",
   "name": "python",
   "nbconvert_exporter": "python",
   "pygments_lexer": "ipython3",
   "version": "3.9.12"
  }
 },
 "nbformat": 4,
 "nbformat_minor": 5
}
